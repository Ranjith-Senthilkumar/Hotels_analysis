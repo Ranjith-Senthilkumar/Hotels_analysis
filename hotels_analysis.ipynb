{
 "cells": [
  {
   "cell_type": "markdown",
   "id": "72227019",
   "metadata": {},
   "source": [
    "<h2 align=\"center\">AtliQ Hotels Data Analysis Project<h2>"
   ]
  },
  {
   "cell_type": "code",
   "execution_count": 1,
   "id": "b9d2e3a2",
   "metadata": {},
   "outputs": [],
   "source": [
    "import pandas as pd"
   ]
  },
  {
   "cell_type": "markdown",
   "id": "25ce70a2",
   "metadata": {},
   "source": [
    "***\n",
    "### ==> 1. Data Import and Data Exploration\n",
    "***"
   ]
  },
  {
   "cell_type": "markdown",
   "id": "c14a05c4",
   "metadata": {},
   "source": [
    "### Datasets\n",
    "We have 5 csv file \n",
    "\n",
    "   - dim_date.csv  \n",
    "   - dim_hotels.csv\n",
    "   - dim_rooms.csv\n",
    "   - fact_aggregated_bookings\n",
    "   - fact_bookings.csv"
   ]
  },
  {
   "cell_type": "markdown",
   "id": "2398dc95",
   "metadata": {},
   "source": [
    "**Read bookings data in a datagrame**"
   ]
  },
  {
   "cell_type": "code",
   "execution_count": 2,
   "id": "0b1145dd",
   "metadata": {},
   "outputs": [],
   "source": [
    "df_bookings = pd.read_csv('datasets\\\\fact_bookings.csv')"
   ]
  },
  {
   "cell_type": "markdown",
   "id": "21671917",
   "metadata": {},
   "source": [
    "**Explore bookings data**"
   ]
  },
  {
   "cell_type": "code",
   "execution_count": 3,
   "id": "98b460b4",
   "metadata": {
    "scrolled": true
   },
   "outputs": [
    {
     "data": {
      "text/html": [
       "<div>\n",
       "<style scoped>\n",
       "    .dataframe tbody tr th:only-of-type {\n",
       "        vertical-align: middle;\n",
       "    }\n",
       "\n",
       "    .dataframe tbody tr th {\n",
       "        vertical-align: top;\n",
       "    }\n",
       "\n",
       "    .dataframe thead th {\n",
       "        text-align: right;\n",
       "    }\n",
       "</style>\n",
       "<table border=\"1\" class=\"dataframe\">\n",
       "  <thead>\n",
       "    <tr style=\"text-align: right;\">\n",
       "      <th></th>\n",
       "      <th>booking_id</th>\n",
       "      <th>property_id</th>\n",
       "      <th>booking_date</th>\n",
       "      <th>check_in_date</th>\n",
       "      <th>checkout_date</th>\n",
       "      <th>no_guests</th>\n",
       "      <th>room_category</th>\n",
       "      <th>booking_platform</th>\n",
       "      <th>ratings_given</th>\n",
       "      <th>booking_status</th>\n",
       "      <th>revenue_generated</th>\n",
       "      <th>revenue_realized</th>\n",
       "    </tr>\n",
       "  </thead>\n",
       "  <tbody>\n",
       "    <tr>\n",
       "      <th>0</th>\n",
       "      <td>May012216558RT11</td>\n",
       "      <td>16558</td>\n",
       "      <td>27-04-22</td>\n",
       "      <td>1/5/2022</td>\n",
       "      <td>2/5/2022</td>\n",
       "      <td>-3.0</td>\n",
       "      <td>RT1</td>\n",
       "      <td>direct online</td>\n",
       "      <td>1.0</td>\n",
       "      <td>Checked Out</td>\n",
       "      <td>10010</td>\n",
       "      <td>10010</td>\n",
       "    </tr>\n",
       "    <tr>\n",
       "      <th>1</th>\n",
       "      <td>May012216558RT12</td>\n",
       "      <td>16558</td>\n",
       "      <td>30-04-22</td>\n",
       "      <td>1/5/2022</td>\n",
       "      <td>2/5/2022</td>\n",
       "      <td>2.0</td>\n",
       "      <td>RT1</td>\n",
       "      <td>others</td>\n",
       "      <td>NaN</td>\n",
       "      <td>Cancelled</td>\n",
       "      <td>9100</td>\n",
       "      <td>3640</td>\n",
       "    </tr>\n",
       "    <tr>\n",
       "      <th>2</th>\n",
       "      <td>May012216558RT13</td>\n",
       "      <td>16558</td>\n",
       "      <td>28-04-22</td>\n",
       "      <td>1/5/2022</td>\n",
       "      <td>4/5/2022</td>\n",
       "      <td>2.0</td>\n",
       "      <td>RT1</td>\n",
       "      <td>logtrip</td>\n",
       "      <td>5.0</td>\n",
       "      <td>Checked Out</td>\n",
       "      <td>9100000</td>\n",
       "      <td>9100</td>\n",
       "    </tr>\n",
       "    <tr>\n",
       "      <th>3</th>\n",
       "      <td>May012216558RT14</td>\n",
       "      <td>16558</td>\n",
       "      <td>28-04-22</td>\n",
       "      <td>1/5/2022</td>\n",
       "      <td>2/5/2022</td>\n",
       "      <td>-2.0</td>\n",
       "      <td>RT1</td>\n",
       "      <td>others</td>\n",
       "      <td>NaN</td>\n",
       "      <td>Cancelled</td>\n",
       "      <td>9100</td>\n",
       "      <td>3640</td>\n",
       "    </tr>\n",
       "    <tr>\n",
       "      <th>4</th>\n",
       "      <td>May012216558RT15</td>\n",
       "      <td>16558</td>\n",
       "      <td>27-04-22</td>\n",
       "      <td>1/5/2022</td>\n",
       "      <td>2/5/2022</td>\n",
       "      <td>4.0</td>\n",
       "      <td>RT1</td>\n",
       "      <td>direct online</td>\n",
       "      <td>5.0</td>\n",
       "      <td>Checked Out</td>\n",
       "      <td>10920</td>\n",
       "      <td>10920</td>\n",
       "    </tr>\n",
       "  </tbody>\n",
       "</table>\n",
       "</div>"
      ],
      "text/plain": [
       "         booking_id  property_id booking_date check_in_date checkout_date  \\\n",
       "0  May012216558RT11        16558     27-04-22      1/5/2022      2/5/2022   \n",
       "1  May012216558RT12        16558     30-04-22      1/5/2022      2/5/2022   \n",
       "2  May012216558RT13        16558     28-04-22      1/5/2022      4/5/2022   \n",
       "3  May012216558RT14        16558     28-04-22      1/5/2022      2/5/2022   \n",
       "4  May012216558RT15        16558     27-04-22      1/5/2022      2/5/2022   \n",
       "\n",
       "   no_guests room_category booking_platform  ratings_given booking_status  \\\n",
       "0       -3.0           RT1    direct online            1.0    Checked Out   \n",
       "1        2.0           RT1           others            NaN      Cancelled   \n",
       "2        2.0           RT1          logtrip            5.0    Checked Out   \n",
       "3       -2.0           RT1           others            NaN      Cancelled   \n",
       "4        4.0           RT1    direct online            5.0    Checked Out   \n",
       "\n",
       "   revenue_generated  revenue_realized  \n",
       "0              10010             10010  \n",
       "1               9100              3640  \n",
       "2            9100000              9100  \n",
       "3               9100              3640  \n",
       "4              10920             10920  "
      ]
     },
     "execution_count": 3,
     "metadata": {},
     "output_type": "execute_result"
    }
   ],
   "source": [
    "df_bookings.head()"
   ]
  },
  {
   "cell_type": "code",
   "execution_count": 4,
   "id": "ec669257",
   "metadata": {},
   "outputs": [
    {
     "data": {
      "text/plain": [
       "(134590, 12)"
      ]
     },
     "execution_count": 4,
     "metadata": {},
     "output_type": "execute_result"
    }
   ],
   "source": [
    "df_bookings.shape"
   ]
  },
  {
   "cell_type": "code",
   "execution_count": 5,
   "id": "561bc6ee",
   "metadata": {
    "scrolled": true
   },
   "outputs": [
    {
     "data": {
      "text/plain": [
       "array(['RT1', 'RT2', 'RT3', 'RT4'], dtype=object)"
      ]
     },
     "execution_count": 5,
     "metadata": {},
     "output_type": "execute_result"
    }
   ],
   "source": [
    "df_bookings.room_category.unique()"
   ]
  },
  {
   "cell_type": "code",
   "execution_count": 6,
   "id": "249f9f03",
   "metadata": {},
   "outputs": [
    {
     "data": {
      "text/plain": [
       "array(['direct online', 'others', 'logtrip', 'tripster', 'makeyourtrip',\n",
       "       'journey', 'direct offline'], dtype=object)"
      ]
     },
     "execution_count": 6,
     "metadata": {},
     "output_type": "execute_result"
    }
   ],
   "source": [
    "df_bookings.booking_platform.unique()"
   ]
  },
  {
   "cell_type": "code",
   "execution_count": 7,
   "id": "b998a70d",
   "metadata": {},
   "outputs": [
    {
     "data": {
      "text/plain": [
       "booking_platform\n",
       "others            55066\n",
       "makeyourtrip      26898\n",
       "logtrip           14756\n",
       "direct online     13379\n",
       "tripster           9630\n",
       "journey            8106\n",
       "direct offline     6755\n",
       "Name: count, dtype: int64"
      ]
     },
     "execution_count": 7,
     "metadata": {},
     "output_type": "execute_result"
    }
   ],
   "source": [
    "df_bookings.booking_platform.value_counts()"
   ]
  },
  {
   "cell_type": "code",
   "execution_count": 8,
   "id": "f98d7016",
   "metadata": {},
   "outputs": [
    {
     "data": {
      "text/plain": [
       "<Axes: xlabel='booking_platform'>"
      ]
     },
     "execution_count": 8,
     "metadata": {},
     "output_type": "execute_result"
    },
    {
     "data": {
      "image/png": "[encoded data removed]",
      "text/plain": [
       "<Figure size 640x480 with 1 Axes>"
      ]
     },
     "metadata": {},
     "output_type": "display_data"
    }
   ],
   "source": [
    "df_bookings.booking_platform.value_counts().plot(kind=\"bar\")"
   ]
  },
  {
   "cell_type": "code",
   "execution_count": 9,
   "id": "eb205f36",
   "metadata": {
    "scrolled": true
   },
   "outputs": [
    {
     "data": {
      "text/html": [
       "<div>\n",
       "<style scoped>\n",
       "    .dataframe tbody tr th:only-of-type {\n",
       "        vertical-align: middle;\n",
       "    }\n",
       "\n",
       "    .dataframe tbody tr th {\n",
       "        vertical-align: top;\n",
       "    }\n",
       "\n",
       "    .dataframe thead th {\n",
       "        text-align: right;\n",
       "    }\n",
       "</style>\n",
       "<table border=\"1\" class=\"dataframe\">\n",
       "  <thead>\n",
       "    <tr style=\"text-align: right;\">\n",
       "      <th></th>\n",
       "      <th>property_id</th>\n",
       "      <th>no_guests</th>\n",
       "      <th>ratings_given</th>\n",
       "      <th>revenue_generated</th>\n",
       "      <th>revenue_realized</th>\n",
       "    </tr>\n",
       "  </thead>\n",
       "  <tbody>\n",
       "    <tr>\n",
       "      <th>count</th>\n",
       "      <td>134590.000000</td>\n",
       "      <td>134587.000000</td>\n",
       "      <td>56683.000000</td>\n",
       "      <td>1.345900e+05</td>\n",
       "      <td>134590.000000</td>\n",
       "    </tr>\n",
       "    <tr>\n",
       "      <th>mean</th>\n",
       "      <td>18061.113493</td>\n",
       "      <td>2.036170</td>\n",
       "      <td>3.619004</td>\n",
       "      <td>1.537805e+04</td>\n",
       "      <td>12696.123256</td>\n",
       "    </tr>\n",
       "    <tr>\n",
       "      <th>std</th>\n",
       "      <td>1093.055847</td>\n",
       "      <td>1.034885</td>\n",
       "      <td>1.235009</td>\n",
       "      <td>9.303604e+04</td>\n",
       "      <td>6928.108124</td>\n",
       "    </tr>\n",
       "    <tr>\n",
       "      <th>min</th>\n",
       "      <td>16558.000000</td>\n",
       "      <td>-17.000000</td>\n",
       "      <td>1.000000</td>\n",
       "      <td>6.500000e+03</td>\n",
       "      <td>2600.000000</td>\n",
       "    </tr>\n",
       "    <tr>\n",
       "      <th>25%</th>\n",
       "      <td>17558.000000</td>\n",
       "      <td>1.000000</td>\n",
       "      <td>3.000000</td>\n",
       "      <td>9.900000e+03</td>\n",
       "      <td>7600.000000</td>\n",
       "    </tr>\n",
       "    <tr>\n",
       "      <th>50%</th>\n",
       "      <td>17564.000000</td>\n",
       "      <td>2.000000</td>\n",
       "      <td>4.000000</td>\n",
       "      <td>1.350000e+04</td>\n",
       "      <td>11700.000000</td>\n",
       "    </tr>\n",
       "    <tr>\n",
       "      <th>75%</th>\n",
       "      <td>18563.000000</td>\n",
       "      <td>2.000000</td>\n",
       "      <td>5.000000</td>\n",
       "      <td>1.800000e+04</td>\n",
       "      <td>15300.000000</td>\n",
       "    </tr>\n",
       "    <tr>\n",
       "      <th>max</th>\n",
       "      <td>19563.000000</td>\n",
       "      <td>6.000000</td>\n",
       "      <td>5.000000</td>\n",
       "      <td>2.856000e+07</td>\n",
       "      <td>45220.000000</td>\n",
       "    </tr>\n",
       "  </tbody>\n",
       "</table>\n",
       "</div>"
      ],
      "text/plain": [
       "         property_id      no_guests  ratings_given  revenue_generated  \\\n",
       "count  134590.000000  134587.000000   56683.000000       1.345900e+05   \n",
       "mean    18061.113493       2.036170       3.619004       1.537805e+04   \n",
       "std      1093.055847       1.034885       1.235009       9.303604e+04   \n",
       "min     16558.000000     -17.000000       1.000000       6.500000e+03   \n",
       "25%     17558.000000       1.000000       3.000000       9.900000e+03   \n",
       "50%     17564.000000       2.000000       4.000000       1.350000e+04   \n",
       "75%     18563.000000       2.000000       5.000000       1.800000e+04   \n",
       "max     19563.000000       6.000000       5.000000       2.856000e+07   \n",
       "\n",
       "       revenue_realized  \n",
       "count     134590.000000  \n",
       "mean       12696.123256  \n",
       "std         6928.108124  \n",
       "min         2600.000000  \n",
       "25%         7600.000000  \n",
       "50%        11700.000000  \n",
       "75%        15300.000000  \n",
       "max        45220.000000  "
      ]
     },
     "execution_count": 9,
     "metadata": {},
     "output_type": "execute_result"
    }
   ],
   "source": [
    "df_bookings.describe()"
   ]
  },
  {
   "cell_type": "markdown",
   "id": "faa56317",
   "metadata": {},
   "source": [
    "**Read rest of the files**"
   ]
  },
  {
   "cell_type": "code",
   "execution_count": 10,
   "id": "acec3d09",
   "metadata": {},
   "outputs": [
    {
     "data": {
      "text/html": [
       "<div>\n",
       "<style scoped>\n",
       "    .dataframe tbody tr th:only-of-type {\n",
       "        vertical-align: middle;\n",
       "    }\n",
       "\n",
       "    .dataframe tbody tr th {\n",
       "        vertical-align: top;\n",
       "    }\n",
       "\n",
       "    .dataframe thead th {\n",
       "        text-align: right;\n",
       "    }\n",
       "</style>\n",
       "<table border=\"1\" class=\"dataframe\">\n",
       "  <thead>\n",
       "    <tr style=\"text-align: right;\">\n",
       "      <th></th>\n",
       "      <th>property_id</th>\n",
       "      <th>check_in_date</th>\n",
       "      <th>room_category</th>\n",
       "      <th>successful_bookings</th>\n",
       "      <th>capacity</th>\n",
       "    </tr>\n",
       "  </thead>\n",
       "  <tbody>\n",
       "    <tr>\n",
       "      <th>0</th>\n",
       "      <td>16559</td>\n",
       "      <td>1-May-22</td>\n",
       "      <td>RT1</td>\n",
       "      <td>25</td>\n",
       "      <td>30.0</td>\n",
       "    </tr>\n",
       "    <tr>\n",
       "      <th>1</th>\n",
       "      <td>19562</td>\n",
       "      <td>1-May-22</td>\n",
       "      <td>RT1</td>\n",
       "      <td>28</td>\n",
       "      <td>30.0</td>\n",
       "    </tr>\n",
       "    <tr>\n",
       "      <th>2</th>\n",
       "      <td>19563</td>\n",
       "      <td>1-May-22</td>\n",
       "      <td>RT1</td>\n",
       "      <td>23</td>\n",
       "      <td>30.0</td>\n",
       "    </tr>\n",
       "    <tr>\n",
       "      <th>3</th>\n",
       "      <td>17558</td>\n",
       "      <td>1-May-22</td>\n",
       "      <td>RT1</td>\n",
       "      <td>30</td>\n",
       "      <td>19.0</td>\n",
       "    </tr>\n",
       "    <tr>\n",
       "      <th>4</th>\n",
       "      <td>16558</td>\n",
       "      <td>1-May-22</td>\n",
       "      <td>RT1</td>\n",
       "      <td>18</td>\n",
       "      <td>19.0</td>\n",
       "    </tr>\n",
       "    <tr>\n",
       "      <th>...</th>\n",
       "      <td>...</td>\n",
       "      <td>...</td>\n",
       "      <td>...</td>\n",
       "      <td>...</td>\n",
       "      <td>...</td>\n",
       "    </tr>\n",
       "    <tr>\n",
       "      <th>9195</th>\n",
       "      <td>16563</td>\n",
       "      <td>31-Jul-22</td>\n",
       "      <td>RT4</td>\n",
       "      <td>13</td>\n",
       "      <td>18.0</td>\n",
       "    </tr>\n",
       "    <tr>\n",
       "      <th>9196</th>\n",
       "      <td>16559</td>\n",
       "      <td>31-Jul-22</td>\n",
       "      <td>RT4</td>\n",
       "      <td>13</td>\n",
       "      <td>18.0</td>\n",
       "    </tr>\n",
       "    <tr>\n",
       "      <th>9197</th>\n",
       "      <td>17558</td>\n",
       "      <td>31-Jul-22</td>\n",
       "      <td>RT4</td>\n",
       "      <td>3</td>\n",
       "      <td>6.0</td>\n",
       "    </tr>\n",
       "    <tr>\n",
       "      <th>9198</th>\n",
       "      <td>19563</td>\n",
       "      <td>31-Jul-22</td>\n",
       "      <td>RT4</td>\n",
       "      <td>3</td>\n",
       "      <td>6.0</td>\n",
       "    </tr>\n",
       "    <tr>\n",
       "      <th>9199</th>\n",
       "      <td>17561</td>\n",
       "      <td>31-Jul-22</td>\n",
       "      <td>RT4</td>\n",
       "      <td>3</td>\n",
       "      <td>4.0</td>\n",
       "    </tr>\n",
       "  </tbody>\n",
       "</table>\n",
       "<p>9200 rows × 5 columns</p>\n",
       "</div>"
      ],
      "text/plain": [
       "      property_id check_in_date room_category  successful_bookings  capacity\n",
       "0           16559      1-May-22           RT1                   25      30.0\n",
       "1           19562      1-May-22           RT1                   28      30.0\n",
       "2           19563      1-May-22           RT1                   23      30.0\n",
       "3           17558      1-May-22           RT1                   30      19.0\n",
       "4           16558      1-May-22           RT1                   18      19.0\n",
       "...           ...           ...           ...                  ...       ...\n",
       "9195        16563     31-Jul-22           RT4                   13      18.0\n",
       "9196        16559     31-Jul-22           RT4                   13      18.0\n",
       "9197        17558     31-Jul-22           RT4                    3       6.0\n",
       "9198        19563     31-Jul-22           RT4                    3       6.0\n",
       "9199        17561     31-Jul-22           RT4                    3       4.0\n",
       "\n",
       "[9200 rows x 5 columns]"
      ]
     },
     "execution_count": 10,
     "metadata": {},
     "output_type": "execute_result"
    }
   ],
   "source": [
    "df_date = pd.read_csv('datasets/dim_date.csv')\n",
    "df_hotels = pd.read_csv('datasets/dim_hotels.csv')\n",
    "df_rooms = pd.read_csv('datasets/dim_rooms.csv')\n",
    "df_agg_bookings = pd.read_csv('datasets/fact_aggregated_bookings.csv')\n",
    "df_agg_bookings\n"
   ]
  },
  {
   "cell_type": "code",
   "execution_count": 11,
   "id": "58ad4ecc",
   "metadata": {},
   "outputs": [
    {
     "data": {
      "text/plain": [
       "(25, 4)"
      ]
     },
     "execution_count": 11,
     "metadata": {},
     "output_type": "execute_result"
    }
   ],
   "source": [
    "df_hotels.shape"
   ]
  },
  {
   "cell_type": "code",
   "execution_count": 12,
   "id": "120678c2",
   "metadata": {},
   "outputs": [
    {
     "data": {
      "text/html": [
       "<div>\n",
       "<style scoped>\n",
       "    .dataframe tbody tr th:only-of-type {\n",
       "        vertical-align: middle;\n",
       "    }\n",
       "\n",
       "    .dataframe tbody tr th {\n",
       "        vertical-align: top;\n",
       "    }\n",
       "\n",
       "    .dataframe thead th {\n",
       "        text-align: right;\n",
       "    }\n",
       "</style>\n",
       "<table border=\"1\" class=\"dataframe\">\n",
       "  <thead>\n",
       "    <tr style=\"text-align: right;\">\n",
       "      <th></th>\n",
       "      <th>property_id</th>\n",
       "      <th>property_name</th>\n",
       "      <th>category</th>\n",
       "      <th>city</th>\n",
       "    </tr>\n",
       "  </thead>\n",
       "  <tbody>\n",
       "    <tr>\n",
       "      <th>0</th>\n",
       "      <td>16558</td>\n",
       "      <td>Atliq Grands</td>\n",
       "      <td>Luxury</td>\n",
       "      <td>Delhi</td>\n",
       "    </tr>\n",
       "    <tr>\n",
       "      <th>1</th>\n",
       "      <td>16559</td>\n",
       "      <td>Atliq Exotica</td>\n",
       "      <td>Luxury</td>\n",
       "      <td>Mumbai</td>\n",
       "    </tr>\n",
       "    <tr>\n",
       "      <th>2</th>\n",
       "      <td>16560</td>\n",
       "      <td>Atliq City</td>\n",
       "      <td>Business</td>\n",
       "      <td>Delhi</td>\n",
       "    </tr>\n",
       "  </tbody>\n",
       "</table>\n",
       "</div>"
      ],
      "text/plain": [
       "   property_id  property_name  category    city\n",
       "0        16558   Atliq Grands    Luxury   Delhi\n",
       "1        16559  Atliq Exotica    Luxury  Mumbai\n",
       "2        16560     Atliq City  Business   Delhi"
      ]
     },
     "execution_count": 12,
     "metadata": {},
     "output_type": "execute_result"
    }
   ],
   "source": [
    "df_hotels.head(3)"
   ]
  },
  {
   "cell_type": "code",
   "execution_count": 13,
   "id": "b58d35c0",
   "metadata": {},
   "outputs": [
    {
     "data": {
      "text/plain": [
       "category\n",
       "Luxury      16\n",
       "Business     9\n",
       "Name: count, dtype: int64"
      ]
     },
     "execution_count": 13,
     "metadata": {},
     "output_type": "execute_result"
    }
   ],
   "source": [
    "df_hotels.category.value_counts()"
   ]
  },
  {
   "cell_type": "code",
   "execution_count": 14,
   "id": "a1676d49",
   "metadata": {},
   "outputs": [
    {
     "data": {
      "text/plain": [
       "<Axes: xlabel='city'>"
      ]
     },
     "execution_count": 14,
     "metadata": {},
     "output_type": "execute_result"
    },
    {
     "data": {
      "image/png": "[encoded data removed]",
      "text/plain": [
       "<Figure size 640x480 with 1 Axes>"
      ]
     },
     "metadata": {},
     "output_type": "display_data"
    }
   ],
   "source": [
    "df_hotels.city.value_counts().plot(kind=\"bar\")"
   ]
  },
  {
   "cell_type": "code",
   "execution_count": 15,
   "id": "f143c06a",
   "metadata": {},
   "outputs": [
    {
     "data": {
      "text/html": [
       "<div>\n",
       "<style scoped>\n",
       "    .dataframe tbody tr th:only-of-type {\n",
       "        vertical-align: middle;\n",
       "    }\n",
       "\n",
       "    .dataframe tbody tr th {\n",
       "        vertical-align: top;\n",
       "    }\n",
       "\n",
       "    .dataframe thead th {\n",
       "        text-align: right;\n",
       "    }\n",
       "</style>\n",
       "<table border=\"1\" class=\"dataframe\">\n",
       "  <thead>\n",
       "    <tr style=\"text-align: right;\">\n",
       "      <th></th>\n",
       "      <th>property_id</th>\n",
       "      <th>check_in_date</th>\n",
       "      <th>room_category</th>\n",
       "      <th>successful_bookings</th>\n",
       "      <th>capacity</th>\n",
       "    </tr>\n",
       "  </thead>\n",
       "  <tbody>\n",
       "    <tr>\n",
       "      <th>0</th>\n",
       "      <td>16559</td>\n",
       "      <td>1-May-22</td>\n",
       "      <td>RT1</td>\n",
       "      <td>25</td>\n",
       "      <td>30.0</td>\n",
       "    </tr>\n",
       "    <tr>\n",
       "      <th>1</th>\n",
       "      <td>19562</td>\n",
       "      <td>1-May-22</td>\n",
       "      <td>RT1</td>\n",
       "      <td>28</td>\n",
       "      <td>30.0</td>\n",
       "    </tr>\n",
       "    <tr>\n",
       "      <th>2</th>\n",
       "      <td>19563</td>\n",
       "      <td>1-May-22</td>\n",
       "      <td>RT1</td>\n",
       "      <td>23</td>\n",
       "      <td>30.0</td>\n",
       "    </tr>\n",
       "  </tbody>\n",
       "</table>\n",
       "</div>"
      ],
      "text/plain": [
       "   property_id check_in_date room_category  successful_bookings  capacity\n",
       "0        16559      1-May-22           RT1                   25      30.0\n",
       "1        19562      1-May-22           RT1                   28      30.0\n",
       "2        19563      1-May-22           RT1                   23      30.0"
      ]
     },
     "execution_count": 15,
     "metadata": {},
     "output_type": "execute_result"
    }
   ],
   "source": [
    "df_agg_bookings.head(3)"
   ]
  },
  {
   "cell_type": "markdown",
   "id": "5585a977",
   "metadata": {},
   "source": [
    "**unique property ids in aggregate bookings dataset**"
   ]
  },
  {
   "cell_type": "code",
   "execution_count": 16,
   "id": "5bb56d04",
   "metadata": {},
   "outputs": [
    {
     "name": "stdout",
     "output_type": "stream",
     "text": [
      "Unique Property IDs:\n",
      "[16559 19562 19563 17558 16558 17560 19558 19560 17561 16560 16561 16562\n",
      " 16563 17559 17562 17563 18558 18559 18561 18562 18563 19559 19561 17564\n",
      " 18560]\n"
     ]
    }
   ],
   "source": [
    "unique_property_ids = df_agg_bookings['property_id'].unique()\n",
    "print(\"Unique Property IDs:\")\n",
    "print(unique_property_ids)"
   ]
  },
  {
   "cell_type": "markdown",
   "id": "be7f36cb",
   "metadata": {},
   "source": [
    "**total bookings per property_id**"
   ]
  },
  {
   "cell_type": "code",
   "execution_count": 17,
   "id": "ff1dc471",
   "metadata": {},
   "outputs": [
    {
     "name": "stdout",
     "output_type": "stream",
     "text": [
      "    property_id  total_bookings\n",
      "0         16558             368\n",
      "1         16559             368\n",
      "2         16560             368\n",
      "3         16561             368\n",
      "4         16562             368\n",
      "5         16563             368\n",
      "6         17558             368\n",
      "7         17559             368\n",
      "8         17560             368\n",
      "9         17561             368\n",
      "10        17562             368\n",
      "11        17563             368\n",
      "12        17564             368\n",
      "13        18558             368\n",
      "14        18559             368\n",
      "15        18560             368\n",
      "16        18561             368\n",
      "17        18562             368\n",
      "18        18563             368\n",
      "19        19558             368\n",
      "20        19559             368\n",
      "21        19560             368\n",
      "22        19561             368\n",
      "23        19562             368\n",
      "24        19563             368\n"
     ]
    }
   ],
   "source": [
    "total_bookings_per_property = df_agg_bookings.groupby('property_id').size().reset_index(name='total_bookings')\n",
    "\n",
    "# Display the result\n",
    "print(total_bookings_per_property)"
   ]
  },
  {
   "cell_type": "markdown",
   "id": "aae77d32",
   "metadata": {},
   "source": [
    "**days on which bookings are greater than capacity**"
   ]
  },
  {
   "cell_type": "code",
   "execution_count": 18,
   "id": "e71ce6f4",
   "metadata": {},
   "outputs": [
    {
     "name": "stdout",
     "output_type": "stream",
     "text": [
      "      property_id check_in_date room_category  successful_bookings  capacity\n",
      "3           17558      1-May-22           RT1                   30      19.0\n",
      "12          16563      1-May-22           RT1                  100      41.0\n",
      "4136        19558     11-Jun-22           RT2                   50      39.0\n",
      "6209        19560      2-Jul-22           RT1                  123      26.0\n",
      "8522        19559     25-Jul-22           RT1                   35      24.0\n",
      "9194        18563     31-Jul-22           RT4                   20      18.0\n"
     ]
    }
   ],
   "source": [
    "over_capacity_days = df_agg_bookings[df_agg_bookings['successful_bookings'] > df_agg_bookings['capacity']]\n",
    "\n",
    "# Display the result\n",
    "print(over_capacity_days)"
   ]
  },
  {
   "cell_type": "markdown",
   "id": "6384f78e",
   "metadata": {},
   "source": [
    "**Find out properties that have highest capacity**"
   ]
  },
  {
   "cell_type": "code",
   "execution_count": 19,
   "id": "95eb57d9",
   "metadata": {},
   "outputs": [
    {
     "name": "stdout",
     "output_type": "stream",
     "text": [
      "Properties with the highest capacity:\n",
      "    property_id  capacity\n",
      "27        17558      50.0\n"
     ]
    }
   ],
   "source": [
    "# Find the maximum capacity\n",
    "max_capacity = df_agg_bookings['capacity'].max()\n",
    "\n",
    "# Filter properties with the highest capacity\n",
    "highest_capacity_properties = df_agg_bookings[df_agg_bookings['capacity'] == max_capacity]\n",
    "\n",
    "# Display the result\n",
    "print(\"Properties with the highest capacity:\")\n",
    "print(highest_capacity_properties[['property_id', 'capacity']].drop_duplicates())\n"
   ]
  },
  {
   "cell_type": "markdown",
   "id": "164ae638",
   "metadata": {},
   "source": [
    "***\n",
    "### ==> 2. Data Cleaning\n",
    "***"
   ]
  },
  {
   "cell_type": "code",
   "execution_count": 20,
   "id": "6a54b884",
   "metadata": {},
   "outputs": [
    {
     "data": {
      "text/html": [
       "<div>\n",
       "<style scoped>\n",
       "    .dataframe tbody tr th:only-of-type {\n",
       "        vertical-align: middle;\n",
       "    }\n",
       "\n",
       "    .dataframe tbody tr th {\n",
       "        vertical-align: top;\n",
       "    }\n",
       "\n",
       "    .dataframe thead th {\n",
       "        text-align: right;\n",
       "    }\n",
       "</style>\n",
       "<table border=\"1\" class=\"dataframe\">\n",
       "  <thead>\n",
       "    <tr style=\"text-align: right;\">\n",
       "      <th></th>\n",
       "      <th>property_id</th>\n",
       "      <th>no_guests</th>\n",
       "      <th>ratings_given</th>\n",
       "      <th>revenue_generated</th>\n",
       "      <th>revenue_realized</th>\n",
       "    </tr>\n",
       "  </thead>\n",
       "  <tbody>\n",
       "    <tr>\n",
       "      <th>count</th>\n",
       "      <td>134590.000000</td>\n",
       "      <td>134587.000000</td>\n",
       "      <td>56683.000000</td>\n",
       "      <td>1.345900e+05</td>\n",
       "      <td>134590.000000</td>\n",
       "    </tr>\n",
       "    <tr>\n",
       "      <th>mean</th>\n",
       "      <td>18061.113493</td>\n",
       "      <td>2.036170</td>\n",
       "      <td>3.619004</td>\n",
       "      <td>1.537805e+04</td>\n",
       "      <td>12696.123256</td>\n",
       "    </tr>\n",
       "    <tr>\n",
       "      <th>std</th>\n",
       "      <td>1093.055847</td>\n",
       "      <td>1.034885</td>\n",
       "      <td>1.235009</td>\n",
       "      <td>9.303604e+04</td>\n",
       "      <td>6928.108124</td>\n",
       "    </tr>\n",
       "    <tr>\n",
       "      <th>min</th>\n",
       "      <td>16558.000000</td>\n",
       "      <td>-17.000000</td>\n",
       "      <td>1.000000</td>\n",
       "      <td>6.500000e+03</td>\n",
       "      <td>2600.000000</td>\n",
       "    </tr>\n",
       "    <tr>\n",
       "      <th>25%</th>\n",
       "      <td>17558.000000</td>\n",
       "      <td>1.000000</td>\n",
       "      <td>3.000000</td>\n",
       "      <td>9.900000e+03</td>\n",
       "      <td>7600.000000</td>\n",
       "    </tr>\n",
       "    <tr>\n",
       "      <th>50%</th>\n",
       "      <td>17564.000000</td>\n",
       "      <td>2.000000</td>\n",
       "      <td>4.000000</td>\n",
       "      <td>1.350000e+04</td>\n",
       "      <td>11700.000000</td>\n",
       "    </tr>\n",
       "    <tr>\n",
       "      <th>75%</th>\n",
       "      <td>18563.000000</td>\n",
       "      <td>2.000000</td>\n",
       "      <td>5.000000</td>\n",
       "      <td>1.800000e+04</td>\n",
       "      <td>15300.000000</td>\n",
       "    </tr>\n",
       "    <tr>\n",
       "      <th>max</th>\n",
       "      <td>19563.000000</td>\n",
       "      <td>6.000000</td>\n",
       "      <td>5.000000</td>\n",
       "      <td>2.856000e+07</td>\n",
       "      <td>45220.000000</td>\n",
       "    </tr>\n",
       "  </tbody>\n",
       "</table>\n",
       "</div>"
      ],
      "text/plain": [
       "         property_id      no_guests  ratings_given  revenue_generated  \\\n",
       "count  134590.000000  134587.000000   56683.000000       1.345900e+05   \n",
       "mean    18061.113493       2.036170       3.619004       1.537805e+04   \n",
       "std      1093.055847       1.034885       1.235009       9.303604e+04   \n",
       "min     16558.000000     -17.000000       1.000000       6.500000e+03   \n",
       "25%     17558.000000       1.000000       3.000000       9.900000e+03   \n",
       "50%     17564.000000       2.000000       4.000000       1.350000e+04   \n",
       "75%     18563.000000       2.000000       5.000000       1.800000e+04   \n",
       "max     19563.000000       6.000000       5.000000       2.856000e+07   \n",
       "\n",
       "       revenue_realized  \n",
       "count     134590.000000  \n",
       "mean       12696.123256  \n",
       "std         6928.108124  \n",
       "min         2600.000000  \n",
       "25%         7600.000000  \n",
       "50%        11700.000000  \n",
       "75%        15300.000000  \n",
       "max        45220.000000  "
      ]
     },
     "execution_count": 20,
     "metadata": {},
     "output_type": "execute_result"
    }
   ],
   "source": [
    "df_bookings.describe()"
   ]
  },
  {
   "cell_type": "markdown",
   "id": "ccab1747",
   "metadata": {},
   "source": [
    "**(1) Clean invalid guests**"
   ]
  },
  {
   "cell_type": "code",
   "execution_count": 21,
   "id": "dd38529d",
   "metadata": {},
   "outputs": [
    {
     "data": {
      "text/html": [
       "<div>\n",
       "<style scoped>\n",
       "    .dataframe tbody tr th:only-of-type {\n",
       "        vertical-align: middle;\n",
       "    }\n",
       "\n",
       "    .dataframe tbody tr th {\n",
       "        vertical-align: top;\n",
       "    }\n",
       "\n",
       "    .dataframe thead th {\n",
       "        text-align: right;\n",
       "    }\n",
       "</style>\n",
       "<table border=\"1\" class=\"dataframe\">\n",
       "  <thead>\n",
       "    <tr style=\"text-align: right;\">\n",
       "      <th></th>\n",
       "      <th>booking_id</th>\n",
       "      <th>property_id</th>\n",
       "      <th>booking_date</th>\n",
       "      <th>check_in_date</th>\n",
       "      <th>checkout_date</th>\n",
       "      <th>no_guests</th>\n",
       "      <th>room_category</th>\n",
       "      <th>booking_platform</th>\n",
       "      <th>ratings_given</th>\n",
       "      <th>booking_status</th>\n",
       "      <th>revenue_generated</th>\n",
       "      <th>revenue_realized</th>\n",
       "    </tr>\n",
       "  </thead>\n",
       "  <tbody>\n",
       "    <tr>\n",
       "      <th>0</th>\n",
       "      <td>May012216558RT11</td>\n",
       "      <td>16558</td>\n",
       "      <td>27-04-22</td>\n",
       "      <td>1/5/2022</td>\n",
       "      <td>2/5/2022</td>\n",
       "      <td>-3.0</td>\n",
       "      <td>RT1</td>\n",
       "      <td>direct online</td>\n",
       "      <td>1.0</td>\n",
       "      <td>Checked Out</td>\n",
       "      <td>10010</td>\n",
       "      <td>10010</td>\n",
       "    </tr>\n",
       "    <tr>\n",
       "      <th>3</th>\n",
       "      <td>May012216558RT14</td>\n",
       "      <td>16558</td>\n",
       "      <td>28-04-22</td>\n",
       "      <td>1/5/2022</td>\n",
       "      <td>2/5/2022</td>\n",
       "      <td>-2.0</td>\n",
       "      <td>RT1</td>\n",
       "      <td>others</td>\n",
       "      <td>NaN</td>\n",
       "      <td>Cancelled</td>\n",
       "      <td>9100</td>\n",
       "      <td>3640</td>\n",
       "    </tr>\n",
       "    <tr>\n",
       "      <th>17924</th>\n",
       "      <td>May122218559RT44</td>\n",
       "      <td>18559</td>\n",
       "      <td>12/5/2022</td>\n",
       "      <td>12/5/2022</td>\n",
       "      <td>14-05-22</td>\n",
       "      <td>-10.0</td>\n",
       "      <td>RT4</td>\n",
       "      <td>direct online</td>\n",
       "      <td>NaN</td>\n",
       "      <td>No Show</td>\n",
       "      <td>20900</td>\n",
       "      <td>20900</td>\n",
       "    </tr>\n",
       "    <tr>\n",
       "      <th>18020</th>\n",
       "      <td>May122218561RT22</td>\n",
       "      <td>18561</td>\n",
       "      <td>8/5/2022</td>\n",
       "      <td>12/5/2022</td>\n",
       "      <td>14-05-22</td>\n",
       "      <td>-12.0</td>\n",
       "      <td>RT2</td>\n",
       "      <td>makeyourtrip</td>\n",
       "      <td>NaN</td>\n",
       "      <td>Cancelled</td>\n",
       "      <td>9000</td>\n",
       "      <td>3600</td>\n",
       "    </tr>\n",
       "    <tr>\n",
       "      <th>18119</th>\n",
       "      <td>May122218562RT311</td>\n",
       "      <td>18562</td>\n",
       "      <td>5/5/2022</td>\n",
       "      <td>12/5/2022</td>\n",
       "      <td>17-05-22</td>\n",
       "      <td>-6.0</td>\n",
       "      <td>RT3</td>\n",
       "      <td>direct offline</td>\n",
       "      <td>5.0</td>\n",
       "      <td>Checked Out</td>\n",
       "      <td>16800</td>\n",
       "      <td>16800</td>\n",
       "    </tr>\n",
       "    <tr>\n",
       "      <th>18121</th>\n",
       "      <td>May122218562RT313</td>\n",
       "      <td>18562</td>\n",
       "      <td>10/5/2022</td>\n",
       "      <td>12/5/2022</td>\n",
       "      <td>17-05-22</td>\n",
       "      <td>-4.0</td>\n",
       "      <td>RT3</td>\n",
       "      <td>direct online</td>\n",
       "      <td>NaN</td>\n",
       "      <td>Cancelled</td>\n",
       "      <td>14400</td>\n",
       "      <td>5760</td>\n",
       "    </tr>\n",
       "    <tr>\n",
       "      <th>56715</th>\n",
       "      <td>Jun082218562RT12</td>\n",
       "      <td>18562</td>\n",
       "      <td>5/6/2022</td>\n",
       "      <td>8/6/2022</td>\n",
       "      <td>13-06-22</td>\n",
       "      <td>-17.0</td>\n",
       "      <td>RT1</td>\n",
       "      <td>others</td>\n",
       "      <td>NaN</td>\n",
       "      <td>Checked Out</td>\n",
       "      <td>6500</td>\n",
       "      <td>6500</td>\n",
       "    </tr>\n",
       "    <tr>\n",
       "      <th>119765</th>\n",
       "      <td>Jul202219560RT220</td>\n",
       "      <td>19560</td>\n",
       "      <td>19-07-22</td>\n",
       "      <td>20-07-22</td>\n",
       "      <td>22-07-22</td>\n",
       "      <td>-1.0</td>\n",
       "      <td>RT2</td>\n",
       "      <td>others</td>\n",
       "      <td>NaN</td>\n",
       "      <td>Checked Out</td>\n",
       "      <td>13500</td>\n",
       "      <td>13500</td>\n",
       "    </tr>\n",
       "    <tr>\n",
       "      <th>134586</th>\n",
       "      <td>Jul312217564RT47</td>\n",
       "      <td>17564</td>\n",
       "      <td>30-07-22</td>\n",
       "      <td>31-07-22</td>\n",
       "      <td>1/8/2022</td>\n",
       "      <td>-4.0</td>\n",
       "      <td>RT4</td>\n",
       "      <td>logtrip</td>\n",
       "      <td>2.0</td>\n",
       "      <td>Checked Out</td>\n",
       "      <td>38760</td>\n",
       "      <td>38760</td>\n",
       "    </tr>\n",
       "  </tbody>\n",
       "</table>\n",
       "</div>"
      ],
      "text/plain": [
       "               booking_id  property_id booking_date check_in_date  \\\n",
       "0        May012216558RT11        16558     27-04-22      1/5/2022   \n",
       "3        May012216558RT14        16558     28-04-22      1/5/2022   \n",
       "17924    May122218559RT44        18559    12/5/2022     12/5/2022   \n",
       "18020    May122218561RT22        18561     8/5/2022     12/5/2022   \n",
       "18119   May122218562RT311        18562     5/5/2022     12/5/2022   \n",
       "18121   May122218562RT313        18562    10/5/2022     12/5/2022   \n",
       "56715    Jun082218562RT12        18562     5/6/2022      8/6/2022   \n",
       "119765  Jul202219560RT220        19560     19-07-22      20-07-22   \n",
       "134586   Jul312217564RT47        17564     30-07-22      31-07-22   \n",
       "\n",
       "       checkout_date  no_guests room_category booking_platform  ratings_given  \\\n",
       "0           2/5/2022       -3.0           RT1    direct online            1.0   \n",
       "3           2/5/2022       -2.0           RT1           others            NaN   \n",
       "17924       14-05-22      -10.0           RT4    direct online            NaN   \n",
       "18020       14-05-22      -12.0           RT2     makeyourtrip            NaN   \n",
       "18119       17-05-22       -6.0           RT3   direct offline            5.0   \n",
       "18121       17-05-22       -4.0           RT3    direct online            NaN   \n",
       "56715       13-06-22      -17.0           RT1           others            NaN   \n",
       "119765      22-07-22       -1.0           RT2           others            NaN   \n",
       "134586      1/8/2022       -4.0           RT4          logtrip            2.0   \n",
       "\n",
       "       booking_status  revenue_generated  revenue_realized  \n",
       "0         Checked Out              10010             10010  \n",
       "3           Cancelled               9100              3640  \n",
       "17924         No Show              20900             20900  \n",
       "18020       Cancelled               9000              3600  \n",
       "18119     Checked Out              16800             16800  \n",
       "18121       Cancelled              14400              5760  \n",
       "56715     Checked Out               6500              6500  \n",
       "119765    Checked Out              13500             13500  \n",
       "134586    Checked Out              38760             38760  "
      ]
     },
     "execution_count": 21,
     "metadata": {},
     "output_type": "execute_result"
    }
   ],
   "source": [
    "df_bookings[df_bookings.no_guests<=0]"
   ]
  },
  {
   "cell_type": "code",
   "execution_count": 22,
   "id": "ec37e362",
   "metadata": {},
   "outputs": [
    {
     "data": {
      "text/html": [
       "<div>\n",
       "<style scoped>\n",
       "    .dataframe tbody tr th:only-of-type {\n",
       "        vertical-align: middle;\n",
       "    }\n",
       "\n",
       "    .dataframe tbody tr th {\n",
       "        vertical-align: top;\n",
       "    }\n",
       "\n",
       "    .dataframe thead th {\n",
       "        text-align: right;\n",
       "    }\n",
       "</style>\n",
       "<table border=\"1\" class=\"dataframe\">\n",
       "  <thead>\n",
       "    <tr style=\"text-align: right;\">\n",
       "      <th></th>\n",
       "      <th>booking_id</th>\n",
       "      <th>property_id</th>\n",
       "      <th>booking_date</th>\n",
       "      <th>check_in_date</th>\n",
       "      <th>checkout_date</th>\n",
       "      <th>no_guests</th>\n",
       "      <th>room_category</th>\n",
       "      <th>booking_platform</th>\n",
       "      <th>ratings_given</th>\n",
       "      <th>booking_status</th>\n",
       "      <th>revenue_generated</th>\n",
       "      <th>revenue_realized</th>\n",
       "    </tr>\n",
       "  </thead>\n",
       "  <tbody>\n",
       "    <tr>\n",
       "      <th>1</th>\n",
       "      <td>May012216558RT12</td>\n",
       "      <td>16558</td>\n",
       "      <td>30-04-22</td>\n",
       "      <td>1/5/2022</td>\n",
       "      <td>2/5/2022</td>\n",
       "      <td>2.0</td>\n",
       "      <td>RT1</td>\n",
       "      <td>others</td>\n",
       "      <td>NaN</td>\n",
       "      <td>Cancelled</td>\n",
       "      <td>9100</td>\n",
       "      <td>3640</td>\n",
       "    </tr>\n",
       "    <tr>\n",
       "      <th>2</th>\n",
       "      <td>May012216558RT13</td>\n",
       "      <td>16558</td>\n",
       "      <td>28-04-22</td>\n",
       "      <td>1/5/2022</td>\n",
       "      <td>4/5/2022</td>\n",
       "      <td>2.0</td>\n",
       "      <td>RT1</td>\n",
       "      <td>logtrip</td>\n",
       "      <td>5.0</td>\n",
       "      <td>Checked Out</td>\n",
       "      <td>9100000</td>\n",
       "      <td>9100</td>\n",
       "    </tr>\n",
       "    <tr>\n",
       "      <th>4</th>\n",
       "      <td>May012216558RT15</td>\n",
       "      <td>16558</td>\n",
       "      <td>27-04-22</td>\n",
       "      <td>1/5/2022</td>\n",
       "      <td>2/5/2022</td>\n",
       "      <td>4.0</td>\n",
       "      <td>RT1</td>\n",
       "      <td>direct online</td>\n",
       "      <td>5.0</td>\n",
       "      <td>Checked Out</td>\n",
       "      <td>10920</td>\n",
       "      <td>10920</td>\n",
       "    </tr>\n",
       "    <tr>\n",
       "      <th>5</th>\n",
       "      <td>May012216558RT16</td>\n",
       "      <td>16558</td>\n",
       "      <td>1/5/2022</td>\n",
       "      <td>1/5/2022</td>\n",
       "      <td>3/5/2022</td>\n",
       "      <td>2.0</td>\n",
       "      <td>RT1</td>\n",
       "      <td>others</td>\n",
       "      <td>4.0</td>\n",
       "      <td>Checked Out</td>\n",
       "      <td>9100</td>\n",
       "      <td>9100</td>\n",
       "    </tr>\n",
       "    <tr>\n",
       "      <th>6</th>\n",
       "      <td>May012216558RT17</td>\n",
       "      <td>16558</td>\n",
       "      <td>28-04-22</td>\n",
       "      <td>1/5/2022</td>\n",
       "      <td>6/5/2022</td>\n",
       "      <td>2.0</td>\n",
       "      <td>RT1</td>\n",
       "      <td>others</td>\n",
       "      <td>NaN</td>\n",
       "      <td>Cancelled</td>\n",
       "      <td>9100</td>\n",
       "      <td>3640</td>\n",
       "    </tr>\n",
       "    <tr>\n",
       "      <th>...</th>\n",
       "      <td>...</td>\n",
       "      <td>...</td>\n",
       "      <td>...</td>\n",
       "      <td>...</td>\n",
       "      <td>...</td>\n",
       "      <td>...</td>\n",
       "      <td>...</td>\n",
       "      <td>...</td>\n",
       "      <td>...</td>\n",
       "      <td>...</td>\n",
       "      <td>...</td>\n",
       "      <td>...</td>\n",
       "    </tr>\n",
       "    <tr>\n",
       "      <th>134584</th>\n",
       "      <td>Jul312217564RT45</td>\n",
       "      <td>17564</td>\n",
       "      <td>30-07-22</td>\n",
       "      <td>31-07-22</td>\n",
       "      <td>1/8/2022</td>\n",
       "      <td>2.0</td>\n",
       "      <td>RT4</td>\n",
       "      <td>others</td>\n",
       "      <td>2.0</td>\n",
       "      <td>Checked Out</td>\n",
       "      <td>32300</td>\n",
       "      <td>32300</td>\n",
       "    </tr>\n",
       "    <tr>\n",
       "      <th>134585</th>\n",
       "      <td>Jul312217564RT46</td>\n",
       "      <td>17564</td>\n",
       "      <td>29-07-22</td>\n",
       "      <td>31-07-22</td>\n",
       "      <td>3/8/2022</td>\n",
       "      <td>1.0</td>\n",
       "      <td>RT4</td>\n",
       "      <td>makeyourtrip</td>\n",
       "      <td>2.0</td>\n",
       "      <td>Checked Out</td>\n",
       "      <td>32300</td>\n",
       "      <td>32300</td>\n",
       "    </tr>\n",
       "    <tr>\n",
       "      <th>134587</th>\n",
       "      <td>Jul312217564RT48</td>\n",
       "      <td>17564</td>\n",
       "      <td>30-07-22</td>\n",
       "      <td>31-07-22</td>\n",
       "      <td>2/8/2022</td>\n",
       "      <td>1.0</td>\n",
       "      <td>RT4</td>\n",
       "      <td>tripster</td>\n",
       "      <td>NaN</td>\n",
       "      <td>Cancelled</td>\n",
       "      <td>32300</td>\n",
       "      <td>12920</td>\n",
       "    </tr>\n",
       "    <tr>\n",
       "      <th>134588</th>\n",
       "      <td>Jul312217564RT49</td>\n",
       "      <td>17564</td>\n",
       "      <td>29-07-22</td>\n",
       "      <td>31-07-22</td>\n",
       "      <td>1/8/2022</td>\n",
       "      <td>2.0</td>\n",
       "      <td>RT4</td>\n",
       "      <td>logtrip</td>\n",
       "      <td>2.0</td>\n",
       "      <td>Checked Out</td>\n",
       "      <td>32300</td>\n",
       "      <td>32300</td>\n",
       "    </tr>\n",
       "    <tr>\n",
       "      <th>134589</th>\n",
       "      <td>Jul312217564RT410</td>\n",
       "      <td>17564</td>\n",
       "      <td>31-07-22</td>\n",
       "      <td>31-07-22</td>\n",
       "      <td>1/8/2022</td>\n",
       "      <td>2.0</td>\n",
       "      <td>RT4</td>\n",
       "      <td>makeyourtrip</td>\n",
       "      <td>NaN</td>\n",
       "      <td>Cancelled</td>\n",
       "      <td>32300</td>\n",
       "      <td>12920</td>\n",
       "    </tr>\n",
       "  </tbody>\n",
       "</table>\n",
       "<p>134578 rows × 12 columns</p>\n",
       "</div>"
      ],
      "text/plain": [
       "               booking_id  property_id booking_date check_in_date  \\\n",
       "1        May012216558RT12        16558     30-04-22      1/5/2022   \n",
       "2        May012216558RT13        16558     28-04-22      1/5/2022   \n",
       "4        May012216558RT15        16558     27-04-22      1/5/2022   \n",
       "5        May012216558RT16        16558     1/5/2022      1/5/2022   \n",
       "6        May012216558RT17        16558     28-04-22      1/5/2022   \n",
       "...                   ...          ...          ...           ...   \n",
       "134584   Jul312217564RT45        17564     30-07-22      31-07-22   \n",
       "134585   Jul312217564RT46        17564     29-07-22      31-07-22   \n",
       "134587   Jul312217564RT48        17564     30-07-22      31-07-22   \n",
       "134588   Jul312217564RT49        17564     29-07-22      31-07-22   \n",
       "134589  Jul312217564RT410        17564     31-07-22      31-07-22   \n",
       "\n",
       "       checkout_date  no_guests room_category booking_platform  ratings_given  \\\n",
       "1           2/5/2022        2.0           RT1           others            NaN   \n",
       "2           4/5/2022        2.0           RT1          logtrip            5.0   \n",
       "4           2/5/2022        4.0           RT1    direct online            5.0   \n",
       "5           3/5/2022        2.0           RT1           others            4.0   \n",
       "6           6/5/2022        2.0           RT1           others            NaN   \n",
       "...              ...        ...           ...              ...            ...   \n",
       "134584      1/8/2022        2.0           RT4           others            2.0   \n",
       "134585      3/8/2022        1.0           RT4     makeyourtrip            2.0   \n",
       "134587      2/8/2022        1.0           RT4         tripster            NaN   \n",
       "134588      1/8/2022        2.0           RT4          logtrip            2.0   \n",
       "134589      1/8/2022        2.0           RT4     makeyourtrip            NaN   \n",
       "\n",
       "       booking_status  revenue_generated  revenue_realized  \n",
       "1           Cancelled               9100              3640  \n",
       "2         Checked Out            9100000              9100  \n",
       "4         Checked Out              10920             10920  \n",
       "5         Checked Out               9100              9100  \n",
       "6           Cancelled               9100              3640  \n",
       "...               ...                ...               ...  \n",
       "134584    Checked Out              32300             32300  \n",
       "134585    Checked Out              32300             32300  \n",
       "134587      Cancelled              32300             12920  \n",
       "134588    Checked Out              32300             32300  \n",
       "134589      Cancelled              32300             12920  \n",
       "\n",
       "[134578 rows x 12 columns]"
      ]
     },
     "execution_count": 22,
     "metadata": {},
     "output_type": "execute_result"
    }
   ],
   "source": [
    "df_bookings = df_bookings[df_bookings.no_guests>0]\n",
    "df_bookings"
   ]
  },
  {
   "cell_type": "code",
   "execution_count": 23,
   "id": "2745a215",
   "metadata": {},
   "outputs": [
    {
     "data": {
      "text/plain": [
       "(134578, 12)"
      ]
     },
     "execution_count": 23,
     "metadata": {},
     "output_type": "execute_result"
    }
   ],
   "source": [
    "df_bookings.shape"
   ]
  },
  {
   "cell_type": "markdown",
   "id": "ba6b034f",
   "metadata": {},
   "source": [
    "**(2) Outlier removal in revenue generated**"
   ]
  },
  {
   "cell_type": "code",
   "execution_count": 24,
   "id": "8fe72ee9",
   "metadata": {},
   "outputs": [
    {
     "data": {
      "text/plain": [
       "(np.int64(6500), np.int64(28560000))"
      ]
     },
     "execution_count": 24,
     "metadata": {},
     "output_type": "execute_result"
    }
   ],
   "source": [
    "df_bookings.revenue_generated.min(), df_bookings.revenue_generated.max()"
   ]
  },
  {
   "cell_type": "code",
   "execution_count": 25,
   "id": "28d6901d",
   "metadata": {},
   "outputs": [
    {
     "data": {
      "text/plain": [
       "(np.float64(15378.036937686695), np.float64(13500.0))"
      ]
     },
     "execution_count": 25,
     "metadata": {},
     "output_type": "execute_result"
    }
   ],
   "source": [
    "df_bookings.revenue_generated.mean(), df_bookings.revenue_generated.median()"
   ]
  },
  {
   "cell_type": "code",
   "execution_count": 26,
   "id": "a0ba0424",
   "metadata": {},
   "outputs": [],
   "source": [
    "avg, std = df_bookings.revenue_generated.mean(), df_bookings.revenue_generated.std()"
   ]
  },
  {
   "cell_type": "code",
   "execution_count": 27,
   "id": "dbb0d367",
   "metadata": {},
   "outputs": [
    {
     "data": {
      "text/plain": [
       "np.float64(294498.50173207896)"
      ]
     },
     "execution_count": 27,
     "metadata": {},
     "output_type": "execute_result"
    }
   ],
   "source": [
    "higher_limit = avg + 3*std\n",
    "higher_limit"
   ]
  },
  {
   "cell_type": "code",
   "execution_count": 28,
   "id": "d4dbae33",
   "metadata": {},
   "outputs": [
    {
     "data": {
      "text/plain": [
       "np.float64(-263742.4278567056)"
      ]
     },
     "execution_count": 28,
     "metadata": {},
     "output_type": "execute_result"
    }
   ],
   "source": [
    "lower_limit = avg - 3*std\n",
    "lower_limit"
   ]
  },
  {
   "cell_type": "code",
   "execution_count": 29,
   "id": "d5883cd1",
   "metadata": {},
   "outputs": [
    {
     "data": {
      "text/html": [
       "<div>\n",
       "<style scoped>\n",
       "    .dataframe tbody tr th:only-of-type {\n",
       "        vertical-align: middle;\n",
       "    }\n",
       "\n",
       "    .dataframe tbody tr th {\n",
       "        vertical-align: top;\n",
       "    }\n",
       "\n",
       "    .dataframe thead th {\n",
       "        text-align: right;\n",
       "    }\n",
       "</style>\n",
       "<table border=\"1\" class=\"dataframe\">\n",
       "  <thead>\n",
       "    <tr style=\"text-align: right;\">\n",
       "      <th></th>\n",
       "      <th>booking_id</th>\n",
       "      <th>property_id</th>\n",
       "      <th>booking_date</th>\n",
       "      <th>check_in_date</th>\n",
       "      <th>checkout_date</th>\n",
       "      <th>no_guests</th>\n",
       "      <th>room_category</th>\n",
       "      <th>booking_platform</th>\n",
       "      <th>ratings_given</th>\n",
       "      <th>booking_status</th>\n",
       "      <th>revenue_generated</th>\n",
       "      <th>revenue_realized</th>\n",
       "    </tr>\n",
       "  </thead>\n",
       "  <tbody>\n",
       "  </tbody>\n",
       "</table>\n",
       "</div>"
      ],
      "text/plain": [
       "Empty DataFrame\n",
       "Columns: [booking_id, property_id, booking_date, check_in_date, checkout_date, no_guests, room_category, booking_platform, ratings_given, booking_status, revenue_generated, revenue_realized]\n",
       "Index: []"
      ]
     },
     "execution_count": 29,
     "metadata": {},
     "output_type": "execute_result"
    }
   ],
   "source": [
    "df_bookings[df_bookings.revenue_generated<=0]"
   ]
  },
  {
   "cell_type": "code",
   "execution_count": 30,
   "id": "6232ee08",
   "metadata": {
    "scrolled": true
   },
   "outputs": [
    {
     "data": {
      "text/html": [
       "<div>\n",
       "<style scoped>\n",
       "    .dataframe tbody tr th:only-of-type {\n",
       "        vertical-align: middle;\n",
       "    }\n",
       "\n",
       "    .dataframe tbody tr th {\n",
       "        vertical-align: top;\n",
       "    }\n",
       "\n",
       "    .dataframe thead th {\n",
       "        text-align: right;\n",
       "    }\n",
       "</style>\n",
       "<table border=\"1\" class=\"dataframe\">\n",
       "  <thead>\n",
       "    <tr style=\"text-align: right;\">\n",
       "      <th></th>\n",
       "      <th>booking_id</th>\n",
       "      <th>property_id</th>\n",
       "      <th>booking_date</th>\n",
       "      <th>check_in_date</th>\n",
       "      <th>checkout_date</th>\n",
       "      <th>no_guests</th>\n",
       "      <th>room_category</th>\n",
       "      <th>booking_platform</th>\n",
       "      <th>ratings_given</th>\n",
       "      <th>booking_status</th>\n",
       "      <th>revenue_generated</th>\n",
       "      <th>revenue_realized</th>\n",
       "    </tr>\n",
       "  </thead>\n",
       "  <tbody>\n",
       "    <tr>\n",
       "      <th>2</th>\n",
       "      <td>May012216558RT13</td>\n",
       "      <td>16558</td>\n",
       "      <td>28-04-22</td>\n",
       "      <td>1/5/2022</td>\n",
       "      <td>4/5/2022</td>\n",
       "      <td>2.0</td>\n",
       "      <td>RT1</td>\n",
       "      <td>logtrip</td>\n",
       "      <td>5.0</td>\n",
       "      <td>Checked Out</td>\n",
       "      <td>9100000</td>\n",
       "      <td>9100</td>\n",
       "    </tr>\n",
       "    <tr>\n",
       "      <th>111</th>\n",
       "      <td>May012216559RT32</td>\n",
       "      <td>16559</td>\n",
       "      <td>29-04-22</td>\n",
       "      <td>1/5/2022</td>\n",
       "      <td>2/5/2022</td>\n",
       "      <td>6.0</td>\n",
       "      <td>RT3</td>\n",
       "      <td>direct online</td>\n",
       "      <td>NaN</td>\n",
       "      <td>Checked Out</td>\n",
       "      <td>28560000</td>\n",
       "      <td>28560</td>\n",
       "    </tr>\n",
       "    <tr>\n",
       "      <th>315</th>\n",
       "      <td>May012216562RT22</td>\n",
       "      <td>16562</td>\n",
       "      <td>28-04-22</td>\n",
       "      <td>1/5/2022</td>\n",
       "      <td>4/5/2022</td>\n",
       "      <td>2.0</td>\n",
       "      <td>RT2</td>\n",
       "      <td>direct offline</td>\n",
       "      <td>3.0</td>\n",
       "      <td>Checked Out</td>\n",
       "      <td>12600000</td>\n",
       "      <td>12600</td>\n",
       "    </tr>\n",
       "    <tr>\n",
       "      <th>562</th>\n",
       "      <td>May012217559RT118</td>\n",
       "      <td>17559</td>\n",
       "      <td>26-04-22</td>\n",
       "      <td>1/5/2022</td>\n",
       "      <td>2/5/2022</td>\n",
       "      <td>2.0</td>\n",
       "      <td>RT1</td>\n",
       "      <td>others</td>\n",
       "      <td>NaN</td>\n",
       "      <td>Cancelled</td>\n",
       "      <td>2000000</td>\n",
       "      <td>4420</td>\n",
       "    </tr>\n",
       "    <tr>\n",
       "      <th>129176</th>\n",
       "      <td>Jul282216562RT26</td>\n",
       "      <td>16562</td>\n",
       "      <td>21-07-22</td>\n",
       "      <td>28-07-22</td>\n",
       "      <td>29-07-22</td>\n",
       "      <td>2.0</td>\n",
       "      <td>RT2</td>\n",
       "      <td>direct online</td>\n",
       "      <td>3.0</td>\n",
       "      <td>Checked Out</td>\n",
       "      <td>10000000</td>\n",
       "      <td>12600</td>\n",
       "    </tr>\n",
       "  </tbody>\n",
       "</table>\n",
       "</div>"
      ],
      "text/plain": [
       "               booking_id  property_id booking_date check_in_date  \\\n",
       "2        May012216558RT13        16558     28-04-22      1/5/2022   \n",
       "111      May012216559RT32        16559     29-04-22      1/5/2022   \n",
       "315      May012216562RT22        16562     28-04-22      1/5/2022   \n",
       "562     May012217559RT118        17559     26-04-22      1/5/2022   \n",
       "129176   Jul282216562RT26        16562     21-07-22      28-07-22   \n",
       "\n",
       "       checkout_date  no_guests room_category booking_platform  ratings_given  \\\n",
       "2           4/5/2022        2.0           RT1          logtrip            5.0   \n",
       "111         2/5/2022        6.0           RT3    direct online            NaN   \n",
       "315         4/5/2022        2.0           RT2   direct offline            3.0   \n",
       "562         2/5/2022        2.0           RT1           others            NaN   \n",
       "129176      29-07-22        2.0           RT2    direct online            3.0   \n",
       "\n",
       "       booking_status  revenue_generated  revenue_realized  \n",
       "2         Checked Out            9100000              9100  \n",
       "111       Checked Out           28560000             28560  \n",
       "315       Checked Out           12600000             12600  \n",
       "562         Cancelled            2000000              4420  \n",
       "129176    Checked Out           10000000             12600  "
      ]
     },
     "execution_count": 30,
     "metadata": {},
     "output_type": "execute_result"
    }
   ],
   "source": [
    "df_bookings[df_bookings.revenue_generated>higher_limit]"
   ]
  },
  {
   "cell_type": "code",
   "execution_count": 31,
   "id": "fbde1d02",
   "metadata": {},
   "outputs": [
    {
     "data": {
      "text/plain": [
       "(134573, 12)"
      ]
     },
     "execution_count": 31,
     "metadata": {},
     "output_type": "execute_result"
    }
   ],
   "source": [
    "df_bookings = df_bookings[df_bookings.revenue_generated<=higher_limit]\n",
    "df_bookings.shape"
   ]
  },
  {
   "cell_type": "code",
   "execution_count": 32,
   "id": "3df8cf63",
   "metadata": {},
   "outputs": [
    {
     "data": {
      "text/plain": [
       "count    134573.000000\n",
       "mean      12695.983585\n",
       "std        6927.791692\n",
       "min        2600.000000\n",
       "25%        7600.000000\n",
       "50%       11700.000000\n",
       "75%       15300.000000\n",
       "max       45220.000000\n",
       "Name: revenue_realized, dtype: float64"
      ]
     },
     "execution_count": 32,
     "metadata": {},
     "output_type": "execute_result"
    }
   ],
   "source": [
    "df_bookings.revenue_realized.describe()"
   ]
  },
  {
   "cell_type": "code",
   "execution_count": 33,
   "id": "c9253a14",
   "metadata": {},
   "outputs": [
    {
     "data": {
      "text/plain": [
       "np.float64(33479.358661845814)"
      ]
     },
     "execution_count": 33,
     "metadata": {},
     "output_type": "execute_result"
    }
   ],
   "source": [
    "higher_limit = df_bookings.revenue_realized.mean() + 3*df_bookings.revenue_realized.std()\n",
    "higher_limit"
   ]
  },
  {
   "cell_type": "code",
   "execution_count": 34,
   "id": "c88165cc",
   "metadata": {},
   "outputs": [
    {
     "data": {
      "text/html": [
       "<div>\n",
       "<style scoped>\n",
       "    .dataframe tbody tr th:only-of-type {\n",
       "        vertical-align: middle;\n",
       "    }\n",
       "\n",
       "    .dataframe tbody tr th {\n",
       "        vertical-align: top;\n",
       "    }\n",
       "\n",
       "    .dataframe thead th {\n",
       "        text-align: right;\n",
       "    }\n",
       "</style>\n",
       "<table border=\"1\" class=\"dataframe\">\n",
       "  <thead>\n",
       "    <tr style=\"text-align: right;\">\n",
       "      <th></th>\n",
       "      <th>booking_id</th>\n",
       "      <th>property_id</th>\n",
       "      <th>booking_date</th>\n",
       "      <th>check_in_date</th>\n",
       "      <th>checkout_date</th>\n",
       "      <th>no_guests</th>\n",
       "      <th>room_category</th>\n",
       "      <th>booking_platform</th>\n",
       "      <th>ratings_given</th>\n",
       "      <th>booking_status</th>\n",
       "      <th>revenue_generated</th>\n",
       "      <th>revenue_realized</th>\n",
       "    </tr>\n",
       "  </thead>\n",
       "  <tbody>\n",
       "    <tr>\n",
       "      <th>137</th>\n",
       "      <td>May012216559RT41</td>\n",
       "      <td>16559</td>\n",
       "      <td>27-04-22</td>\n",
       "      <td>1/5/2022</td>\n",
       "      <td>7/5/2022</td>\n",
       "      <td>4.0</td>\n",
       "      <td>RT4</td>\n",
       "      <td>others</td>\n",
       "      <td>NaN</td>\n",
       "      <td>Checked Out</td>\n",
       "      <td>38760</td>\n",
       "      <td>38760</td>\n",
       "    </tr>\n",
       "    <tr>\n",
       "      <th>139</th>\n",
       "      <td>May012216559RT43</td>\n",
       "      <td>16559</td>\n",
       "      <td>1/5/2022</td>\n",
       "      <td>1/5/2022</td>\n",
       "      <td>2/5/2022</td>\n",
       "      <td>6.0</td>\n",
       "      <td>RT4</td>\n",
       "      <td>tripster</td>\n",
       "      <td>3.0</td>\n",
       "      <td>Checked Out</td>\n",
       "      <td>45220</td>\n",
       "      <td>45220</td>\n",
       "    </tr>\n",
       "    <tr>\n",
       "      <th>143</th>\n",
       "      <td>May012216559RT47</td>\n",
       "      <td>16559</td>\n",
       "      <td>28-04-22</td>\n",
       "      <td>1/5/2022</td>\n",
       "      <td>3/5/2022</td>\n",
       "      <td>3.0</td>\n",
       "      <td>RT4</td>\n",
       "      <td>others</td>\n",
       "      <td>5.0</td>\n",
       "      <td>Checked Out</td>\n",
       "      <td>35530</td>\n",
       "      <td>35530</td>\n",
       "    </tr>\n",
       "    <tr>\n",
       "      <th>149</th>\n",
       "      <td>May012216559RT413</td>\n",
       "      <td>16559</td>\n",
       "      <td>24-04-22</td>\n",
       "      <td>1/5/2022</td>\n",
       "      <td>7/5/2022</td>\n",
       "      <td>5.0</td>\n",
       "      <td>RT4</td>\n",
       "      <td>logtrip</td>\n",
       "      <td>NaN</td>\n",
       "      <td>Checked Out</td>\n",
       "      <td>41990</td>\n",
       "      <td>41990</td>\n",
       "    </tr>\n",
       "    <tr>\n",
       "      <th>222</th>\n",
       "      <td>May012216560RT45</td>\n",
       "      <td>16560</td>\n",
       "      <td>30-04-22</td>\n",
       "      <td>1/5/2022</td>\n",
       "      <td>3/5/2022</td>\n",
       "      <td>5.0</td>\n",
       "      <td>RT4</td>\n",
       "      <td>others</td>\n",
       "      <td>3.0</td>\n",
       "      <td>Checked Out</td>\n",
       "      <td>34580</td>\n",
       "      <td>34580</td>\n",
       "    </tr>\n",
       "    <tr>\n",
       "      <th>...</th>\n",
       "      <td>...</td>\n",
       "      <td>...</td>\n",
       "      <td>...</td>\n",
       "      <td>...</td>\n",
       "      <td>...</td>\n",
       "      <td>...</td>\n",
       "      <td>...</td>\n",
       "      <td>...</td>\n",
       "      <td>...</td>\n",
       "      <td>...</td>\n",
       "      <td>...</td>\n",
       "      <td>...</td>\n",
       "    </tr>\n",
       "    <tr>\n",
       "      <th>134328</th>\n",
       "      <td>Jul312219560RT49</td>\n",
       "      <td>19560</td>\n",
       "      <td>31-07-22</td>\n",
       "      <td>31-07-22</td>\n",
       "      <td>2/8/2022</td>\n",
       "      <td>6.0</td>\n",
       "      <td>RT4</td>\n",
       "      <td>direct online</td>\n",
       "      <td>5.0</td>\n",
       "      <td>Checked Out</td>\n",
       "      <td>39900</td>\n",
       "      <td>39900</td>\n",
       "    </tr>\n",
       "    <tr>\n",
       "      <th>134331</th>\n",
       "      <td>Jul312219560RT412</td>\n",
       "      <td>19560</td>\n",
       "      <td>31-07-22</td>\n",
       "      <td>31-07-22</td>\n",
       "      <td>1/8/2022</td>\n",
       "      <td>6.0</td>\n",
       "      <td>RT4</td>\n",
       "      <td>others</td>\n",
       "      <td>2.0</td>\n",
       "      <td>Checked Out</td>\n",
       "      <td>39900</td>\n",
       "      <td>39900</td>\n",
       "    </tr>\n",
       "    <tr>\n",
       "      <th>134467</th>\n",
       "      <td>Jul312219562RT45</td>\n",
       "      <td>19562</td>\n",
       "      <td>28-07-22</td>\n",
       "      <td>31-07-22</td>\n",
       "      <td>1/8/2022</td>\n",
       "      <td>6.0</td>\n",
       "      <td>RT4</td>\n",
       "      <td>makeyourtrip</td>\n",
       "      <td>4.0</td>\n",
       "      <td>Checked Out</td>\n",
       "      <td>39900</td>\n",
       "      <td>39900</td>\n",
       "    </tr>\n",
       "    <tr>\n",
       "      <th>134474</th>\n",
       "      <td>Jul312219562RT412</td>\n",
       "      <td>19562</td>\n",
       "      <td>25-07-22</td>\n",
       "      <td>31-07-22</td>\n",
       "      <td>6/8/2022</td>\n",
       "      <td>5.0</td>\n",
       "      <td>RT4</td>\n",
       "      <td>direct offline</td>\n",
       "      <td>5.0</td>\n",
       "      <td>Checked Out</td>\n",
       "      <td>37050</td>\n",
       "      <td>37050</td>\n",
       "    </tr>\n",
       "    <tr>\n",
       "      <th>134581</th>\n",
       "      <td>Jul312217564RT42</td>\n",
       "      <td>17564</td>\n",
       "      <td>31-07-22</td>\n",
       "      <td>31-07-22</td>\n",
       "      <td>1/8/2022</td>\n",
       "      <td>4.0</td>\n",
       "      <td>RT4</td>\n",
       "      <td>makeyourtrip</td>\n",
       "      <td>4.0</td>\n",
       "      <td>Checked Out</td>\n",
       "      <td>38760</td>\n",
       "      <td>38760</td>\n",
       "    </tr>\n",
       "  </tbody>\n",
       "</table>\n",
       "<p>1299 rows × 12 columns</p>\n",
       "</div>"
      ],
      "text/plain": [
       "               booking_id  property_id booking_date check_in_date  \\\n",
       "137      May012216559RT41        16559     27-04-22      1/5/2022   \n",
       "139      May012216559RT43        16559     1/5/2022      1/5/2022   \n",
       "143      May012216559RT47        16559     28-04-22      1/5/2022   \n",
       "149     May012216559RT413        16559     24-04-22      1/5/2022   \n",
       "222      May012216560RT45        16560     30-04-22      1/5/2022   \n",
       "...                   ...          ...          ...           ...   \n",
       "134328   Jul312219560RT49        19560     31-07-22      31-07-22   \n",
       "134331  Jul312219560RT412        19560     31-07-22      31-07-22   \n",
       "134467   Jul312219562RT45        19562     28-07-22      31-07-22   \n",
       "134474  Jul312219562RT412        19562     25-07-22      31-07-22   \n",
       "134581   Jul312217564RT42        17564     31-07-22      31-07-22   \n",
       "\n",
       "       checkout_date  no_guests room_category booking_platform  ratings_given  \\\n",
       "137         7/5/2022        4.0           RT4           others            NaN   \n",
       "139         2/5/2022        6.0           RT4         tripster            3.0   \n",
       "143         3/5/2022        3.0           RT4           others            5.0   \n",
       "149         7/5/2022        5.0           RT4          logtrip            NaN   \n",
       "222         3/5/2022        5.0           RT4           others            3.0   \n",
       "...              ...        ...           ...              ...            ...   \n",
       "134328      2/8/2022        6.0           RT4    direct online            5.0   \n",
       "134331      1/8/2022        6.0           RT4           others            2.0   \n",
       "134467      1/8/2022        6.0           RT4     makeyourtrip            4.0   \n",
       "134474      6/8/2022        5.0           RT4   direct offline            5.0   \n",
       "134581      1/8/2022        4.0           RT4     makeyourtrip            4.0   \n",
       "\n",
       "       booking_status  revenue_generated  revenue_realized  \n",
       "137       Checked Out              38760             38760  \n",
       "139       Checked Out              45220             45220  \n",
       "143       Checked Out              35530             35530  \n",
       "149       Checked Out              41990             41990  \n",
       "222       Checked Out              34580             34580  \n",
       "...               ...                ...               ...  \n",
       "134328    Checked Out              39900             39900  \n",
       "134331    Checked Out              39900             39900  \n",
       "134467    Checked Out              39900             39900  \n",
       "134474    Checked Out              37050             37050  \n",
       "134581    Checked Out              38760             38760  \n",
       "\n",
       "[1299 rows x 12 columns]"
      ]
     },
     "execution_count": 34,
     "metadata": {},
     "output_type": "execute_result"
    }
   ],
   "source": [
    "df_bookings[df_bookings.revenue_realized>higher_limit]"
   ]
  },
  {
   "cell_type": "markdown",
   "id": "9c6a9900",
   "metadata": {},
   "source": [
    "One observation we can have in above dataframe is that all rooms are RT4 which means presidential suit. Now since RT4 is a luxurious room it is likely their rent will be higher. To make a fair analysis, we need to do data analysis only on RT4 room types"
   ]
  },
  {
   "cell_type": "code",
   "execution_count": 35,
   "id": "4ae3037e",
   "metadata": {},
   "outputs": [
    {
     "data": {
      "text/plain": [
       "count    16071.000000\n",
       "mean     23439.308444\n",
       "std       9048.599076\n",
       "min       7600.000000\n",
       "25%      19000.000000\n",
       "50%      26600.000000\n",
       "75%      32300.000000\n",
       "max      45220.000000\n",
       "Name: revenue_realized, dtype: float64"
      ]
     },
     "execution_count": 35,
     "metadata": {},
     "output_type": "execute_result"
    }
   ],
   "source": [
    "df_bookings[df_bookings.room_category==\"RT4\"].revenue_realized.describe()"
   ]
  },
  {
   "cell_type": "code",
   "execution_count": 36,
   "id": "94480648",
   "metadata": {},
   "outputs": [
    {
     "data": {
      "text/plain": [
       "50583"
      ]
     },
     "execution_count": 36,
     "metadata": {},
     "output_type": "execute_result"
    }
   ],
   "source": [
    "# mean + 3*standard deviation\n",
    "23439+3*9048"
   ]
  },
  {
   "cell_type": "markdown",
   "id": "2c0dc1c9",
   "metadata": {},
   "source": [
    "Here higher limit comes to be 50583 and in our dataframe above we can see that max value for revenue realized is 45220. Hence we can conclude that there is no outlier and we don't need to do any data cleaning on this particular column"
   ]
  },
  {
   "cell_type": "code",
   "execution_count": 37,
   "id": "2afa2688",
   "metadata": {},
   "outputs": [
    {
     "data": {
      "text/html": [
       "<div>\n",
       "<style scoped>\n",
       "    .dataframe tbody tr th:only-of-type {\n",
       "        vertical-align: middle;\n",
       "    }\n",
       "\n",
       "    .dataframe tbody tr th {\n",
       "        vertical-align: top;\n",
       "    }\n",
       "\n",
       "    .dataframe thead th {\n",
       "        text-align: right;\n",
       "    }\n",
       "</style>\n",
       "<table border=\"1\" class=\"dataframe\">\n",
       "  <thead>\n",
       "    <tr style=\"text-align: right;\">\n",
       "      <th></th>\n",
       "      <th>booking_id</th>\n",
       "      <th>property_id</th>\n",
       "      <th>booking_date</th>\n",
       "      <th>check_in_date</th>\n",
       "      <th>checkout_date</th>\n",
       "      <th>no_guests</th>\n",
       "      <th>room_category</th>\n",
       "      <th>booking_platform</th>\n",
       "      <th>ratings_given</th>\n",
       "      <th>booking_status</th>\n",
       "      <th>revenue_generated</th>\n",
       "      <th>revenue_realized</th>\n",
       "    </tr>\n",
       "  </thead>\n",
       "  <tbody>\n",
       "  </tbody>\n",
       "</table>\n",
       "</div>"
      ],
      "text/plain": [
       "Empty DataFrame\n",
       "Columns: [booking_id, property_id, booking_date, check_in_date, checkout_date, no_guests, room_category, booking_platform, ratings_given, booking_status, revenue_generated, revenue_realized]\n",
       "Index: []"
      ]
     },
     "execution_count": 37,
     "metadata": {},
     "output_type": "execute_result"
    }
   ],
   "source": [
    "df_bookings[df_bookings.booking_id==\"May012216558RT213\"]"
   ]
  },
  {
   "cell_type": "code",
   "execution_count": 38,
   "id": "0c306f3e",
   "metadata": {},
   "outputs": [
    {
     "data": {
      "text/plain": [
       "booking_id               0\n",
       "property_id              0\n",
       "booking_date             0\n",
       "check_in_date            0\n",
       "checkout_date            0\n",
       "no_guests                0\n",
       "room_category            0\n",
       "booking_platform         0\n",
       "ratings_given        77897\n",
       "booking_status           0\n",
       "revenue_generated        0\n",
       "revenue_realized         0\n",
       "dtype: int64"
      ]
     },
     "execution_count": 38,
     "metadata": {},
     "output_type": "execute_result"
    }
   ],
   "source": [
    "df_bookings.isnull().sum()"
   ]
  },
  {
   "cell_type": "markdown",
   "id": "4f93a77d",
   "metadata": {},
   "source": [
    "Total values in our dataframe is 134576. Out of that 77899 rows has null rating. Since there are many rows with null rating, we should not filter these values. Also we should not replace this rating with a median or mean rating etc "
   ]
  },
  {
   "cell_type": "markdown",
   "id": "7ea9226f",
   "metadata": {},
   "source": [
    "**Exercise-1. In aggregate bookings find columns that have null values. Fill these null values with whatever you think is the appropriate subtitute (possible ways is to use mean or median)**"
   ]
  },
  {
   "cell_type": "code",
   "execution_count": 39,
   "id": "0e6c68af",
   "metadata": {},
   "outputs": [
    {
     "name": "stdout",
     "output_type": "stream",
     "text": [
      "Columns with null values:\n",
      "capacity    2\n",
      "dtype: int64\n",
      "Null values after filling:\n",
      "property_id            0\n",
      "check_in_date          0\n",
      "room_category          0\n",
      "successful_bookings    0\n",
      "capacity               0\n",
      "dtype: int64\n"
     ]
    },
    {
     "name": "stderr",
     "output_type": "stream",
     "text": [
      "C:\\Users\\ranji\\AppData\\Local\\Temp\\ipykernel_24668\\441724562.py:13: FutureWarning: A value is trying to be set on a copy of a DataFrame or Series through chained assignment using an inplace method.\n",
      "The behavior will change in pandas 3.0. This inplace method will never work because the intermediate object on which we are setting values always behaves as a copy.\n",
      "\n",
      "For example, when doing 'df[col].method(value, inplace=True)', try using 'df.method({col: value}, inplace=True)' or df[col] = df[col].method(value) instead, to perform the operation inplace on the original object.\n",
      "\n",
      "\n",
      "  df_agg_bookings[column].fillna(df_agg_bookings[column].mean(), inplace=True)\n",
      "C:\\Users\\ranji\\AppData\\Local\\Temp\\ipykernel_24668\\441724562.py:10: FutureWarning: A value is trying to be set on a copy of a DataFrame or Series through chained assignment using an inplace method.\n",
      "The behavior will change in pandas 3.0. This inplace method will never work because the intermediate object on which we are setting values always behaves as a copy.\n",
      "\n",
      "For example, when doing 'df[col].method(value, inplace=True)', try using 'df.method({col: value}, inplace=True)' or df[col] = df[col].method(value) instead, to perform the operation inplace on the original object.\n",
      "\n",
      "\n",
      "  df_agg_bookings[column].fillna(df_agg_bookings[column].mode()[0], inplace=True)\n"
     ]
    }
   ],
   "source": [
    "# Check for columns with null values\n",
    "null_columns = df_agg_bookings.isnull().sum()\n",
    "print(\"Columns with null values:\")\n",
    "print(null_columns[null_columns > 0])\n",
    "\n",
    "# Automatically fill null values based on data types\n",
    "for column in df_agg_bookings.columns:\n",
    "    if df_agg_bookings[column].dtype == 'object':  # Categorical columns\n",
    "        # Fill nulls in categorical columns with the most frequent value (mode)\n",
    "        df_agg_bookings[column].fillna(df_agg_bookings[column].mode()[0], inplace=True)\n",
    "    else:  # Numerical columns\n",
    "        # Fill nulls in numerical columns with the mean value\n",
    "        df_agg_bookings[column].fillna(df_agg_bookings[column].mean(), inplace=True)\n",
    "\n",
    "# Verify the changes\n",
    "print(\"Null values after filling:\")\n",
    "print(df_agg_bookings.isnull().sum())\n"
   ]
  },
  {
   "cell_type": "markdown",
   "id": "1a6348e1",
   "metadata": {},
   "source": [
    "**Exercise-2. In aggregate bookings find out records that have successful_bookings value greater than capacity. Filter those records**"
   ]
  },
  {
   "cell_type": "code",
   "execution_count": 40,
   "id": "8906ab77",
   "metadata": {
    "scrolled": true
   },
   "outputs": [
    {
     "name": "stdout",
     "output_type": "stream",
     "text": [
      "Records with successful_bookings greater than capacity:\n",
      "      property_id check_in_date room_category  successful_bookings  capacity\n",
      "3           17558      1-May-22           RT1                   30      19.0\n",
      "12          16563      1-May-22           RT1                  100      41.0\n",
      "4136        19558     11-Jun-22           RT2                   50      39.0\n",
      "6209        19560      2-Jul-22           RT1                  123      26.0\n",
      "8522        19559     25-Jul-22           RT1                   35      24.0\n",
      "9194        18563     31-Jul-22           RT4                   20      18.0\n"
     ]
    }
   ],
   "source": [
    "# Filter records where successful_bookings is greater than capacity\n",
    "over_capacity_successful_bookings = df_agg_bookings[df_agg_bookings['successful_bookings'] > df_agg_bookings['capacity']]\n",
    "\n",
    "# Display the filtered records\n",
    "print(\"Records with successful_bookings greater than capacity:\")\n",
    "print(over_capacity_successful_bookings)\n"
   ]
  },
  {
   "cell_type": "markdown",
   "id": "561c4b36",
   "metadata": {},
   "source": [
    "***\n",
    "### ==> 3. Data Transformation\n",
    "***"
   ]
  },
  {
   "cell_type": "markdown",
   "id": "6763a2a1",
   "metadata": {},
   "source": [
    "**Create occupancy percentage column**"
   ]
  },
  {
   "cell_type": "code",
   "execution_count": 41,
   "id": "b11f34a1",
   "metadata": {},
   "outputs": [
    {
     "data": {
      "text/html": [
       "<div>\n",
       "<style scoped>\n",
       "    .dataframe tbody tr th:only-of-type {\n",
       "        vertical-align: middle;\n",
       "    }\n",
       "\n",
       "    .dataframe tbody tr th {\n",
       "        vertical-align: top;\n",
       "    }\n",
       "\n",
       "    .dataframe thead th {\n",
       "        text-align: right;\n",
       "    }\n",
       "</style>\n",
       "<table border=\"1\" class=\"dataframe\">\n",
       "  <thead>\n",
       "    <tr style=\"text-align: right;\">\n",
       "      <th></th>\n",
       "      <th>property_id</th>\n",
       "      <th>check_in_date</th>\n",
       "      <th>room_category</th>\n",
       "      <th>successful_bookings</th>\n",
       "      <th>capacity</th>\n",
       "    </tr>\n",
       "  </thead>\n",
       "  <tbody>\n",
       "    <tr>\n",
       "      <th>0</th>\n",
       "      <td>16559</td>\n",
       "      <td>1-May-22</td>\n",
       "      <td>RT1</td>\n",
       "      <td>25</td>\n",
       "      <td>30.0</td>\n",
       "    </tr>\n",
       "    <tr>\n",
       "      <th>1</th>\n",
       "      <td>19562</td>\n",
       "      <td>1-May-22</td>\n",
       "      <td>RT1</td>\n",
       "      <td>28</td>\n",
       "      <td>30.0</td>\n",
       "    </tr>\n",
       "    <tr>\n",
       "      <th>2</th>\n",
       "      <td>19563</td>\n",
       "      <td>1-May-22</td>\n",
       "      <td>RT1</td>\n",
       "      <td>23</td>\n",
       "      <td>30.0</td>\n",
       "    </tr>\n",
       "  </tbody>\n",
       "</table>\n",
       "</div>"
      ],
      "text/plain": [
       "   property_id check_in_date room_category  successful_bookings  capacity\n",
       "0        16559      1-May-22           RT1                   25      30.0\n",
       "1        19562      1-May-22           RT1                   28      30.0\n",
       "2        19563      1-May-22           RT1                   23      30.0"
      ]
     },
     "execution_count": 41,
     "metadata": {},
     "output_type": "execute_result"
    }
   ],
   "source": [
    "df_agg_bookings.head(3)"
   ]
  },
  {
   "cell_type": "code",
   "execution_count": 42,
   "id": "38c76ca0",
   "metadata": {
    "scrolled": true
   },
   "outputs": [],
   "source": [
    "df_agg_bookings['occ_pct'] = df_agg_bookings.apply(lambda row: row['successful_bookings']/row['capacity'], axis=1)"
   ]
  },
  {
   "cell_type": "markdown",
   "id": "005f387c",
   "metadata": {},
   "source": [
    "You can use following approach to get rid of SettingWithCopyWarning"
   ]
  },
  {
   "cell_type": "code",
   "execution_count": 43,
   "id": "e093c2f1",
   "metadata": {},
   "outputs": [
    {
     "data": {
      "text/html": [
       "<div>\n",
       "<style scoped>\n",
       "    .dataframe tbody tr th:only-of-type {\n",
       "        vertical-align: middle;\n",
       "    }\n",
       "\n",
       "    .dataframe tbody tr th {\n",
       "        vertical-align: top;\n",
       "    }\n",
       "\n",
       "    .dataframe thead th {\n",
       "        text-align: right;\n",
       "    }\n",
       "</style>\n",
       "<table border=\"1\" class=\"dataframe\">\n",
       "  <thead>\n",
       "    <tr style=\"text-align: right;\">\n",
       "      <th></th>\n",
       "      <th>property_id</th>\n",
       "      <th>check_in_date</th>\n",
       "      <th>room_category</th>\n",
       "      <th>successful_bookings</th>\n",
       "      <th>capacity</th>\n",
       "      <th>occ_pct</th>\n",
       "    </tr>\n",
       "  </thead>\n",
       "  <tbody>\n",
       "    <tr>\n",
       "      <th>0</th>\n",
       "      <td>16559</td>\n",
       "      <td>1-May-22</td>\n",
       "      <td>RT1</td>\n",
       "      <td>25</td>\n",
       "      <td>30.0</td>\n",
       "      <td>0.833333</td>\n",
       "    </tr>\n",
       "    <tr>\n",
       "      <th>1</th>\n",
       "      <td>19562</td>\n",
       "      <td>1-May-22</td>\n",
       "      <td>RT1</td>\n",
       "      <td>28</td>\n",
       "      <td>30.0</td>\n",
       "      <td>0.933333</td>\n",
       "    </tr>\n",
       "    <tr>\n",
       "      <th>2</th>\n",
       "      <td>19563</td>\n",
       "      <td>1-May-22</td>\n",
       "      <td>RT1</td>\n",
       "      <td>23</td>\n",
       "      <td>30.0</td>\n",
       "      <td>0.766667</td>\n",
       "    </tr>\n",
       "  </tbody>\n",
       "</table>\n",
       "</div>"
      ],
      "text/plain": [
       "   property_id check_in_date room_category  successful_bookings  capacity  \\\n",
       "0        16559      1-May-22           RT1                   25      30.0   \n",
       "1        19562      1-May-22           RT1                   28      30.0   \n",
       "2        19563      1-May-22           RT1                   23      30.0   \n",
       "\n",
       "    occ_pct  \n",
       "0  0.833333  \n",
       "1  0.933333  \n",
       "2  0.766667  "
      ]
     },
     "execution_count": 43,
     "metadata": {},
     "output_type": "execute_result"
    }
   ],
   "source": [
    "new_col = df_agg_bookings.apply(lambda row: row['successful_bookings']/row['capacity'], axis=1)\n",
    "df_agg_bookings = df_agg_bookings.assign(occ_pct=new_col.values)\n",
    "df_agg_bookings.head(3)"
   ]
  },
  {
   "cell_type": "markdown",
   "id": "05338be8",
   "metadata": {},
   "source": [
    "Convert it to a percentage value"
   ]
  },
  {
   "cell_type": "code",
   "execution_count": 44,
   "id": "1dca6a16",
   "metadata": {},
   "outputs": [
    {
     "data": {
      "text/html": [
       "<div>\n",
       "<style scoped>\n",
       "    .dataframe tbody tr th:only-of-type {\n",
       "        vertical-align: middle;\n",
       "    }\n",
       "\n",
       "    .dataframe tbody tr th {\n",
       "        vertical-align: top;\n",
       "    }\n",
       "\n",
       "    .dataframe thead th {\n",
       "        text-align: right;\n",
       "    }\n",
       "</style>\n",
       "<table border=\"1\" class=\"dataframe\">\n",
       "  <thead>\n",
       "    <tr style=\"text-align: right;\">\n",
       "      <th></th>\n",
       "      <th>property_id</th>\n",
       "      <th>check_in_date</th>\n",
       "      <th>room_category</th>\n",
       "      <th>successful_bookings</th>\n",
       "      <th>capacity</th>\n",
       "      <th>occ_pct</th>\n",
       "    </tr>\n",
       "  </thead>\n",
       "  <tbody>\n",
       "    <tr>\n",
       "      <th>0</th>\n",
       "      <td>16559</td>\n",
       "      <td>1-May-22</td>\n",
       "      <td>RT1</td>\n",
       "      <td>25</td>\n",
       "      <td>30.0</td>\n",
       "      <td>83.33</td>\n",
       "    </tr>\n",
       "    <tr>\n",
       "      <th>1</th>\n",
       "      <td>19562</td>\n",
       "      <td>1-May-22</td>\n",
       "      <td>RT1</td>\n",
       "      <td>28</td>\n",
       "      <td>30.0</td>\n",
       "      <td>93.33</td>\n",
       "    </tr>\n",
       "    <tr>\n",
       "      <th>2</th>\n",
       "      <td>19563</td>\n",
       "      <td>1-May-22</td>\n",
       "      <td>RT1</td>\n",
       "      <td>23</td>\n",
       "      <td>30.0</td>\n",
       "      <td>76.67</td>\n",
       "    </tr>\n",
       "  </tbody>\n",
       "</table>\n",
       "</div>"
      ],
      "text/plain": [
       "   property_id check_in_date room_category  successful_bookings  capacity  \\\n",
       "0        16559      1-May-22           RT1                   25      30.0   \n",
       "1        19562      1-May-22           RT1                   28      30.0   \n",
       "2        19563      1-May-22           RT1                   23      30.0   \n",
       "\n",
       "   occ_pct  \n",
       "0    83.33  \n",
       "1    93.33  \n",
       "2    76.67  "
      ]
     },
     "execution_count": 44,
     "metadata": {},
     "output_type": "execute_result"
    }
   ],
   "source": [
    "df_agg_bookings['occ_pct'] = df_agg_bookings['occ_pct'].apply(lambda x: round(x*100, 2))\n",
    "df_agg_bookings.head(3)"
   ]
  },
  {
   "cell_type": "code",
   "execution_count": 45,
   "id": "7bc9049e",
   "metadata": {},
   "outputs": [
    {
     "data": {
      "text/html": [
       "<div>\n",
       "<style scoped>\n",
       "    .dataframe tbody tr th:only-of-type {\n",
       "        vertical-align: middle;\n",
       "    }\n",
       "\n",
       "    .dataframe tbody tr th {\n",
       "        vertical-align: top;\n",
       "    }\n",
       "\n",
       "    .dataframe thead th {\n",
       "        text-align: right;\n",
       "    }\n",
       "</style>\n",
       "<table border=\"1\" class=\"dataframe\">\n",
       "  <thead>\n",
       "    <tr style=\"text-align: right;\">\n",
       "      <th></th>\n",
       "      <th>booking_id</th>\n",
       "      <th>property_id</th>\n",
       "      <th>booking_date</th>\n",
       "      <th>check_in_date</th>\n",
       "      <th>checkout_date</th>\n",
       "      <th>no_guests</th>\n",
       "      <th>room_category</th>\n",
       "      <th>booking_platform</th>\n",
       "      <th>ratings_given</th>\n",
       "      <th>booking_status</th>\n",
       "      <th>revenue_generated</th>\n",
       "      <th>revenue_realized</th>\n",
       "    </tr>\n",
       "  </thead>\n",
       "  <tbody>\n",
       "    <tr>\n",
       "      <th>1</th>\n",
       "      <td>May012216558RT12</td>\n",
       "      <td>16558</td>\n",
       "      <td>30-04-22</td>\n",
       "      <td>1/5/2022</td>\n",
       "      <td>2/5/2022</td>\n",
       "      <td>2.0</td>\n",
       "      <td>RT1</td>\n",
       "      <td>others</td>\n",
       "      <td>NaN</td>\n",
       "      <td>Cancelled</td>\n",
       "      <td>9100</td>\n",
       "      <td>3640</td>\n",
       "    </tr>\n",
       "    <tr>\n",
       "      <th>4</th>\n",
       "      <td>May012216558RT15</td>\n",
       "      <td>16558</td>\n",
       "      <td>27-04-22</td>\n",
       "      <td>1/5/2022</td>\n",
       "      <td>2/5/2022</td>\n",
       "      <td>4.0</td>\n",
       "      <td>RT1</td>\n",
       "      <td>direct online</td>\n",
       "      <td>5.0</td>\n",
       "      <td>Checked Out</td>\n",
       "      <td>10920</td>\n",
       "      <td>10920</td>\n",
       "    </tr>\n",
       "    <tr>\n",
       "      <th>5</th>\n",
       "      <td>May012216558RT16</td>\n",
       "      <td>16558</td>\n",
       "      <td>1/5/2022</td>\n",
       "      <td>1/5/2022</td>\n",
       "      <td>3/5/2022</td>\n",
       "      <td>2.0</td>\n",
       "      <td>RT1</td>\n",
       "      <td>others</td>\n",
       "      <td>4.0</td>\n",
       "      <td>Checked Out</td>\n",
       "      <td>9100</td>\n",
       "      <td>9100</td>\n",
       "    </tr>\n",
       "    <tr>\n",
       "      <th>6</th>\n",
       "      <td>May012216558RT17</td>\n",
       "      <td>16558</td>\n",
       "      <td>28-04-22</td>\n",
       "      <td>1/5/2022</td>\n",
       "      <td>6/5/2022</td>\n",
       "      <td>2.0</td>\n",
       "      <td>RT1</td>\n",
       "      <td>others</td>\n",
       "      <td>NaN</td>\n",
       "      <td>Cancelled</td>\n",
       "      <td>9100</td>\n",
       "      <td>3640</td>\n",
       "    </tr>\n",
       "    <tr>\n",
       "      <th>7</th>\n",
       "      <td>May012216558RT18</td>\n",
       "      <td>16558</td>\n",
       "      <td>26-04-22</td>\n",
       "      <td>1/5/2022</td>\n",
       "      <td>3/5/2022</td>\n",
       "      <td>2.0</td>\n",
       "      <td>RT1</td>\n",
       "      <td>logtrip</td>\n",
       "      <td>NaN</td>\n",
       "      <td>No Show</td>\n",
       "      <td>9100</td>\n",
       "      <td>9100</td>\n",
       "    </tr>\n",
       "  </tbody>\n",
       "</table>\n",
       "</div>"
      ],
      "text/plain": [
       "         booking_id  property_id booking_date check_in_date checkout_date  \\\n",
       "1  May012216558RT12        16558     30-04-22      1/5/2022      2/5/2022   \n",
       "4  May012216558RT15        16558     27-04-22      1/5/2022      2/5/2022   \n",
       "5  May012216558RT16        16558     1/5/2022      1/5/2022      3/5/2022   \n",
       "6  May012216558RT17        16558     28-04-22      1/5/2022      6/5/2022   \n",
       "7  May012216558RT18        16558     26-04-22      1/5/2022      3/5/2022   \n",
       "\n",
       "   no_guests room_category booking_platform  ratings_given booking_status  \\\n",
       "1        2.0           RT1           others            NaN      Cancelled   \n",
       "4        4.0           RT1    direct online            5.0    Checked Out   \n",
       "5        2.0           RT1           others            4.0    Checked Out   \n",
       "6        2.0           RT1           others            NaN      Cancelled   \n",
       "7        2.0           RT1          logtrip            NaN        No Show   \n",
       "\n",
       "   revenue_generated  revenue_realized  \n",
       "1               9100              3640  \n",
       "4              10920             10920  \n",
       "5               9100              9100  \n",
       "6               9100              3640  \n",
       "7               9100              9100  "
      ]
     },
     "execution_count": 45,
     "metadata": {},
     "output_type": "execute_result"
    }
   ],
   "source": [
    "df_bookings.head()"
   ]
  },
  {
   "cell_type": "code",
   "execution_count": 46,
   "id": "33580acc",
   "metadata": {
    "scrolled": true
   },
   "outputs": [
    {
     "name": "stdout",
     "output_type": "stream",
     "text": [
      "<class 'pandas.core.frame.DataFrame'>\n",
      "RangeIndex: 9200 entries, 0 to 9199\n",
      "Data columns (total 6 columns):\n",
      " #   Column               Non-Null Count  Dtype  \n",
      "---  ------               --------------  -----  \n",
      " 0   property_id          9200 non-null   int64  \n",
      " 1   check_in_date        9200 non-null   object \n",
      " 2   room_category        9200 non-null   object \n",
      " 3   successful_bookings  9200 non-null   int64  \n",
      " 4   capacity             9200 non-null   float64\n",
      " 5   occ_pct              9200 non-null   float64\n",
      "dtypes: float64(2), int64(2), object(2)\n",
      "memory usage: 431.4+ KB\n"
     ]
    }
   ],
   "source": [
    "df_agg_bookings.info()"
   ]
  },
  {
   "cell_type": "markdown",
   "id": "537d9327",
   "metadata": {},
   "source": [
    "There are various types of data transformations that you may have to perform based on the need. Few examples of data transformations are,\n",
    "\n",
    "1. Creating new columns\n",
    "1. Normalization\n",
    "1. Merging data\n",
    "1. Aggregation"
   ]
  },
  {
   "cell_type": "markdown",
   "id": "296cb8e2",
   "metadata": {},
   "source": [
    "***\n",
    "### ==> 4. Insights Generation\n",
    "***"
   ]
  },
  {
   "cell_type": "markdown",
   "id": "ff5075bc",
   "metadata": {},
   "source": [
    "**1. What is an average occupancy rate in each of the room categories?**"
   ]
  },
  {
   "cell_type": "code",
   "execution_count": 47,
   "id": "79edd377",
   "metadata": {
    "scrolled": true
   },
   "outputs": [
    {
     "data": {
      "text/html": [
       "<div>\n",
       "<style scoped>\n",
       "    .dataframe tbody tr th:only-of-type {\n",
       "        vertical-align: middle;\n",
       "    }\n",
       "\n",
       "    .dataframe tbody tr th {\n",
       "        vertical-align: top;\n",
       "    }\n",
       "\n",
       "    .dataframe thead th {\n",
       "        text-align: right;\n",
       "    }\n",
       "</style>\n",
       "<table border=\"1\" class=\"dataframe\">\n",
       "  <thead>\n",
       "    <tr style=\"text-align: right;\">\n",
       "      <th></th>\n",
       "      <th>property_id</th>\n",
       "      <th>check_in_date</th>\n",
       "      <th>room_category</th>\n",
       "      <th>successful_bookings</th>\n",
       "      <th>capacity</th>\n",
       "      <th>occ_pct</th>\n",
       "    </tr>\n",
       "  </thead>\n",
       "  <tbody>\n",
       "    <tr>\n",
       "      <th>0</th>\n",
       "      <td>16559</td>\n",
       "      <td>1-May-22</td>\n",
       "      <td>RT1</td>\n",
       "      <td>25</td>\n",
       "      <td>30.0</td>\n",
       "      <td>83.33</td>\n",
       "    </tr>\n",
       "    <tr>\n",
       "      <th>1</th>\n",
       "      <td>19562</td>\n",
       "      <td>1-May-22</td>\n",
       "      <td>RT1</td>\n",
       "      <td>28</td>\n",
       "      <td>30.0</td>\n",
       "      <td>93.33</td>\n",
       "    </tr>\n",
       "    <tr>\n",
       "      <th>2</th>\n",
       "      <td>19563</td>\n",
       "      <td>1-May-22</td>\n",
       "      <td>RT1</td>\n",
       "      <td>23</td>\n",
       "      <td>30.0</td>\n",
       "      <td>76.67</td>\n",
       "    </tr>\n",
       "  </tbody>\n",
       "</table>\n",
       "</div>"
      ],
      "text/plain": [
       "   property_id check_in_date room_category  successful_bookings  capacity  \\\n",
       "0        16559      1-May-22           RT1                   25      30.0   \n",
       "1        19562      1-May-22           RT1                   28      30.0   \n",
       "2        19563      1-May-22           RT1                   23      30.0   \n",
       "\n",
       "   occ_pct  \n",
       "0    83.33  \n",
       "1    93.33  \n",
       "2    76.67  "
      ]
     },
     "execution_count": 47,
     "metadata": {},
     "output_type": "execute_result"
    }
   ],
   "source": [
    "df_agg_bookings.head(3)"
   ]
  },
  {
   "cell_type": "code",
   "execution_count": 48,
   "id": "2c5f1568",
   "metadata": {},
   "outputs": [
    {
     "data": {
      "text/plain": [
       "room_category\n",
       "RT1    58.232091\n",
       "RT2    58.040278\n",
       "RT3    58.028213\n",
       "RT4    59.300461\n",
       "Name: occ_pct, dtype: float64"
      ]
     },
     "execution_count": 48,
     "metadata": {},
     "output_type": "execute_result"
    }
   ],
   "source": [
    "df_agg_bookings.groupby(\"room_category\")[\"occ_pct\"].mean()"
   ]
  },
  {
   "cell_type": "markdown",
   "id": "e474a952",
   "metadata": {},
   "source": [
    "I don't understand RT1, RT2 etc. Print room categories such as Standard, Premium, Elite etc along with average occupancy percentage"
   ]
  },
  {
   "cell_type": "code",
   "execution_count": 49,
   "id": "6e7fc086",
   "metadata": {},
   "outputs": [
    {
     "data": {
      "text/html": [
       "<div>\n",
       "<style scoped>\n",
       "    .dataframe tbody tr th:only-of-type {\n",
       "        vertical-align: middle;\n",
       "    }\n",
       "\n",
       "    .dataframe tbody tr th {\n",
       "        vertical-align: top;\n",
       "    }\n",
       "\n",
       "    .dataframe thead th {\n",
       "        text-align: right;\n",
       "    }\n",
       "</style>\n",
       "<table border=\"1\" class=\"dataframe\">\n",
       "  <thead>\n",
       "    <tr style=\"text-align: right;\">\n",
       "      <th></th>\n",
       "      <th>property_id</th>\n",
       "      <th>check_in_date</th>\n",
       "      <th>room_category</th>\n",
       "      <th>successful_bookings</th>\n",
       "      <th>capacity</th>\n",
       "      <th>occ_pct</th>\n",
       "      <th>room_id</th>\n",
       "      <th>room_class</th>\n",
       "    </tr>\n",
       "  </thead>\n",
       "  <tbody>\n",
       "    <tr>\n",
       "      <th>0</th>\n",
       "      <td>16559</td>\n",
       "      <td>1-May-22</td>\n",
       "      <td>RT1</td>\n",
       "      <td>25</td>\n",
       "      <td>30.0</td>\n",
       "      <td>83.33</td>\n",
       "      <td>RT1</td>\n",
       "      <td>Standard</td>\n",
       "    </tr>\n",
       "    <tr>\n",
       "      <th>1</th>\n",
       "      <td>19562</td>\n",
       "      <td>1-May-22</td>\n",
       "      <td>RT1</td>\n",
       "      <td>28</td>\n",
       "      <td>30.0</td>\n",
       "      <td>93.33</td>\n",
       "      <td>RT1</td>\n",
       "      <td>Standard</td>\n",
       "    </tr>\n",
       "    <tr>\n",
       "      <th>2</th>\n",
       "      <td>19563</td>\n",
       "      <td>1-May-22</td>\n",
       "      <td>RT1</td>\n",
       "      <td>23</td>\n",
       "      <td>30.0</td>\n",
       "      <td>76.67</td>\n",
       "      <td>RT1</td>\n",
       "      <td>Standard</td>\n",
       "    </tr>\n",
       "    <tr>\n",
       "      <th>3</th>\n",
       "      <td>17558</td>\n",
       "      <td>1-May-22</td>\n",
       "      <td>RT1</td>\n",
       "      <td>30</td>\n",
       "      <td>19.0</td>\n",
       "      <td>157.89</td>\n",
       "      <td>RT1</td>\n",
       "      <td>Standard</td>\n",
       "    </tr>\n",
       "  </tbody>\n",
       "</table>\n",
       "</div>"
      ],
      "text/plain": [
       "   property_id check_in_date room_category  successful_bookings  capacity  \\\n",
       "0        16559      1-May-22           RT1                   25      30.0   \n",
       "1        19562      1-May-22           RT1                   28      30.0   \n",
       "2        19563      1-May-22           RT1                   23      30.0   \n",
       "3        17558      1-May-22           RT1                   30      19.0   \n",
       "\n",
       "   occ_pct room_id room_class  \n",
       "0    83.33     RT1   Standard  \n",
       "1    93.33     RT1   Standard  \n",
       "2    76.67     RT1   Standard  \n",
       "3   157.89     RT1   Standard  "
      ]
     },
     "execution_count": 49,
     "metadata": {},
     "output_type": "execute_result"
    }
   ],
   "source": [
    "df = pd.merge(df_agg_bookings, df_rooms, left_on=\"room_category\", right_on=\"room_id\")\n",
    "df.head(4)"
   ]
  },
  {
   "cell_type": "code",
   "execution_count": 50,
   "id": "eba64feb",
   "metadata": {},
   "outputs": [
    {
     "data": {
      "text/html": [
       "<div>\n",
       "<style scoped>\n",
       "    .dataframe tbody tr th:only-of-type {\n",
       "        vertical-align: middle;\n",
       "    }\n",
       "\n",
       "    .dataframe tbody tr th {\n",
       "        vertical-align: top;\n",
       "    }\n",
       "\n",
       "    .dataframe thead th {\n",
       "        text-align: right;\n",
       "    }\n",
       "</style>\n",
       "<table border=\"1\" class=\"dataframe\">\n",
       "  <thead>\n",
       "    <tr style=\"text-align: right;\">\n",
       "      <th></th>\n",
       "      <th>property_id</th>\n",
       "      <th>check_in_date</th>\n",
       "      <th>room_category</th>\n",
       "      <th>successful_bookings</th>\n",
       "      <th>capacity</th>\n",
       "      <th>occ_pct</th>\n",
       "      <th>room_class</th>\n",
       "    </tr>\n",
       "  </thead>\n",
       "  <tbody>\n",
       "    <tr>\n",
       "      <th>0</th>\n",
       "      <td>16559</td>\n",
       "      <td>1-May-22</td>\n",
       "      <td>RT1</td>\n",
       "      <td>25</td>\n",
       "      <td>30.0</td>\n",
       "      <td>83.33</td>\n",
       "      <td>Standard</td>\n",
       "    </tr>\n",
       "    <tr>\n",
       "      <th>1</th>\n",
       "      <td>19562</td>\n",
       "      <td>1-May-22</td>\n",
       "      <td>RT1</td>\n",
       "      <td>28</td>\n",
       "      <td>30.0</td>\n",
       "      <td>93.33</td>\n",
       "      <td>Standard</td>\n",
       "    </tr>\n",
       "    <tr>\n",
       "      <th>2</th>\n",
       "      <td>19563</td>\n",
       "      <td>1-May-22</td>\n",
       "      <td>RT1</td>\n",
       "      <td>23</td>\n",
       "      <td>30.0</td>\n",
       "      <td>76.67</td>\n",
       "      <td>Standard</td>\n",
       "    </tr>\n",
       "    <tr>\n",
       "      <th>3</th>\n",
       "      <td>17558</td>\n",
       "      <td>1-May-22</td>\n",
       "      <td>RT1</td>\n",
       "      <td>30</td>\n",
       "      <td>19.0</td>\n",
       "      <td>157.89</td>\n",
       "      <td>Standard</td>\n",
       "    </tr>\n",
       "  </tbody>\n",
       "</table>\n",
       "</div>"
      ],
      "text/plain": [
       "   property_id check_in_date room_category  successful_bookings  capacity  \\\n",
       "0        16559      1-May-22           RT1                   25      30.0   \n",
       "1        19562      1-May-22           RT1                   28      30.0   \n",
       "2        19563      1-May-22           RT1                   23      30.0   \n",
       "3        17558      1-May-22           RT1                   30      19.0   \n",
       "\n",
       "   occ_pct room_class  \n",
       "0    83.33   Standard  \n",
       "1    93.33   Standard  \n",
       "2    76.67   Standard  \n",
       "3   157.89   Standard  "
      ]
     },
     "execution_count": 50,
     "metadata": {},
     "output_type": "execute_result"
    }
   ],
   "source": [
    "df.drop(\"room_id\",axis=1, inplace=True)\n",
    "df.head(4)"
   ]
  },
  {
   "cell_type": "code",
   "execution_count": 51,
   "id": "4beb9856",
   "metadata": {},
   "outputs": [
    {
     "data": {
      "text/plain": [
       "room_class\n",
       "Elite           58.040278\n",
       "Premium         58.028213\n",
       "Presidential    59.300461\n",
       "Standard        58.232091\n",
       "Name: occ_pct, dtype: float64"
      ]
     },
     "execution_count": 51,
     "metadata": {},
     "output_type": "execute_result"
    }
   ],
   "source": [
    "df.groupby(\"room_class\")[\"occ_pct\"].mean()"
   ]
  },
  {
   "cell_type": "code",
   "execution_count": 52,
   "id": "dc71a97f",
   "metadata": {},
   "outputs": [
    {
     "data": {
      "text/plain": [
       "np.float64(58.232091304347826)"
      ]
     },
     "execution_count": 52,
     "metadata": {},
     "output_type": "execute_result"
    }
   ],
   "source": [
    "df[df.room_class==\"Standard\"].occ_pct.mean()"
   ]
  },
  {
   "cell_type": "markdown",
   "id": "a4ae5668",
   "metadata": {},
   "source": [
    "**2. Print average occupancy rate per city**"
   ]
  },
  {
   "cell_type": "code",
   "execution_count": 53,
   "id": "d4144616",
   "metadata": {},
   "outputs": [
    {
     "data": {
      "text/html": [
       "<div>\n",
       "<style scoped>\n",
       "    .dataframe tbody tr th:only-of-type {\n",
       "        vertical-align: middle;\n",
       "    }\n",
       "\n",
       "    .dataframe tbody tr th {\n",
       "        vertical-align: top;\n",
       "    }\n",
       "\n",
       "    .dataframe thead th {\n",
       "        text-align: right;\n",
       "    }\n",
       "</style>\n",
       "<table border=\"1\" class=\"dataframe\">\n",
       "  <thead>\n",
       "    <tr style=\"text-align: right;\">\n",
       "      <th></th>\n",
       "      <th>property_id</th>\n",
       "      <th>property_name</th>\n",
       "      <th>category</th>\n",
       "      <th>city</th>\n",
       "    </tr>\n",
       "  </thead>\n",
       "  <tbody>\n",
       "    <tr>\n",
       "      <th>0</th>\n",
       "      <td>16558</td>\n",
       "      <td>Atliq Grands</td>\n",
       "      <td>Luxury</td>\n",
       "      <td>Delhi</td>\n",
       "    </tr>\n",
       "    <tr>\n",
       "      <th>1</th>\n",
       "      <td>16559</td>\n",
       "      <td>Atliq Exotica</td>\n",
       "      <td>Luxury</td>\n",
       "      <td>Mumbai</td>\n",
       "    </tr>\n",
       "    <tr>\n",
       "      <th>2</th>\n",
       "      <td>16560</td>\n",
       "      <td>Atliq City</td>\n",
       "      <td>Business</td>\n",
       "      <td>Delhi</td>\n",
       "    </tr>\n",
       "  </tbody>\n",
       "</table>\n",
       "</div>"
      ],
      "text/plain": [
       "   property_id  property_name  category    city\n",
       "0        16558   Atliq Grands    Luxury   Delhi\n",
       "1        16559  Atliq Exotica    Luxury  Mumbai\n",
       "2        16560     Atliq City  Business   Delhi"
      ]
     },
     "execution_count": 53,
     "metadata": {},
     "output_type": "execute_result"
    }
   ],
   "source": [
    "df_hotels.head(3)"
   ]
  },
  {
   "cell_type": "code",
   "execution_count": 54,
   "id": "9566a7b7",
   "metadata": {},
   "outputs": [
    {
     "data": {
      "text/html": [
       "<div>\n",
       "<style scoped>\n",
       "    .dataframe tbody tr th:only-of-type {\n",
       "        vertical-align: middle;\n",
       "    }\n",
       "\n",
       "    .dataframe tbody tr th {\n",
       "        vertical-align: top;\n",
       "    }\n",
       "\n",
       "    .dataframe thead th {\n",
       "        text-align: right;\n",
       "    }\n",
       "</style>\n",
       "<table border=\"1\" class=\"dataframe\">\n",
       "  <thead>\n",
       "    <tr style=\"text-align: right;\">\n",
       "      <th></th>\n",
       "      <th>property_id</th>\n",
       "      <th>check_in_date</th>\n",
       "      <th>room_category</th>\n",
       "      <th>successful_bookings</th>\n",
       "      <th>capacity</th>\n",
       "      <th>occ_pct</th>\n",
       "      <th>room_class</th>\n",
       "      <th>property_name</th>\n",
       "      <th>category</th>\n",
       "      <th>city</th>\n",
       "    </tr>\n",
       "  </thead>\n",
       "  <tbody>\n",
       "    <tr>\n",
       "      <th>0</th>\n",
       "      <td>16559</td>\n",
       "      <td>1-May-22</td>\n",
       "      <td>RT1</td>\n",
       "      <td>25</td>\n",
       "      <td>30.0</td>\n",
       "      <td>83.33</td>\n",
       "      <td>Standard</td>\n",
       "      <td>Atliq Exotica</td>\n",
       "      <td>Luxury</td>\n",
       "      <td>Mumbai</td>\n",
       "    </tr>\n",
       "    <tr>\n",
       "      <th>1</th>\n",
       "      <td>19562</td>\n",
       "      <td>1-May-22</td>\n",
       "      <td>RT1</td>\n",
       "      <td>28</td>\n",
       "      <td>30.0</td>\n",
       "      <td>93.33</td>\n",
       "      <td>Standard</td>\n",
       "      <td>Atliq Bay</td>\n",
       "      <td>Luxury</td>\n",
       "      <td>Bangalore</td>\n",
       "    </tr>\n",
       "    <tr>\n",
       "      <th>2</th>\n",
       "      <td>19563</td>\n",
       "      <td>1-May-22</td>\n",
       "      <td>RT1</td>\n",
       "      <td>23</td>\n",
       "      <td>30.0</td>\n",
       "      <td>76.67</td>\n",
       "      <td>Standard</td>\n",
       "      <td>Atliq Palace</td>\n",
       "      <td>Business</td>\n",
       "      <td>Bangalore</td>\n",
       "    </tr>\n",
       "  </tbody>\n",
       "</table>\n",
       "</div>"
      ],
      "text/plain": [
       "   property_id check_in_date room_category  successful_bookings  capacity  \\\n",
       "0        16559      1-May-22           RT1                   25      30.0   \n",
       "1        19562      1-May-22           RT1                   28      30.0   \n",
       "2        19563      1-May-22           RT1                   23      30.0   \n",
       "\n",
       "   occ_pct room_class  property_name  category       city  \n",
       "0    83.33   Standard  Atliq Exotica    Luxury     Mumbai  \n",
       "1    93.33   Standard      Atliq Bay    Luxury  Bangalore  \n",
       "2    76.67   Standard   Atliq Palace  Business  Bangalore  "
      ]
     },
     "execution_count": 54,
     "metadata": {},
     "output_type": "execute_result"
    }
   ],
   "source": [
    "df = pd.merge(df, df_hotels, on=\"property_id\")\n",
    "df.head(3)"
   ]
  },
  {
   "cell_type": "code",
   "execution_count": 55,
   "id": "ba361b4b",
   "metadata": {
    "scrolled": true
   },
   "outputs": [
    {
     "data": {
      "text/plain": [
       "city\n",
       "Bangalore    56.594207\n",
       "Delhi        61.606467\n",
       "Hyderabad    58.144651\n",
       "Mumbai       57.942629\n",
       "Name: occ_pct, dtype: float64"
      ]
     },
     "execution_count": 55,
     "metadata": {},
     "output_type": "execute_result"
    }
   ],
   "source": [
    "df.groupby(\"city\")[\"occ_pct\"].mean()"
   ]
  },
  {
   "cell_type": "markdown",
   "id": "bdd541b5",
   "metadata": {},
   "source": [
    "**3. When was the occupancy better? Weekday or Weekend?**"
   ]
  },
  {
   "cell_type": "code",
   "execution_count": 56,
   "id": "2a54cedb",
   "metadata": {},
   "outputs": [
    {
     "data": {
      "text/html": [
       "<div>\n",
       "<style scoped>\n",
       "    .dataframe tbody tr th:only-of-type {\n",
       "        vertical-align: middle;\n",
       "    }\n",
       "\n",
       "    .dataframe tbody tr th {\n",
       "        vertical-align: top;\n",
       "    }\n",
       "\n",
       "    .dataframe thead th {\n",
       "        text-align: right;\n",
       "    }\n",
       "</style>\n",
       "<table border=\"1\" class=\"dataframe\">\n",
       "  <thead>\n",
       "    <tr style=\"text-align: right;\">\n",
       "      <th></th>\n",
       "      <th>date</th>\n",
       "      <th>mmm yy</th>\n",
       "      <th>week no</th>\n",
       "      <th>day_type</th>\n",
       "    </tr>\n",
       "  </thead>\n",
       "  <tbody>\n",
       "    <tr>\n",
       "      <th>0</th>\n",
       "      <td>01-May-22</td>\n",
       "      <td>May 22</td>\n",
       "      <td>W 19</td>\n",
       "      <td>weekend</td>\n",
       "    </tr>\n",
       "    <tr>\n",
       "      <th>1</th>\n",
       "      <td>02-May-22</td>\n",
       "      <td>May 22</td>\n",
       "      <td>W 19</td>\n",
       "      <td>weekeday</td>\n",
       "    </tr>\n",
       "    <tr>\n",
       "      <th>2</th>\n",
       "      <td>03-May-22</td>\n",
       "      <td>May 22</td>\n",
       "      <td>W 19</td>\n",
       "      <td>weekeday</td>\n",
       "    </tr>\n",
       "  </tbody>\n",
       "</table>\n",
       "</div>"
      ],
      "text/plain": [
       "        date  mmm yy week no  day_type\n",
       "0  01-May-22  May 22    W 19   weekend\n",
       "1  02-May-22  May 22    W 19  weekeday\n",
       "2  03-May-22  May 22    W 19  weekeday"
      ]
     },
     "execution_count": 56,
     "metadata": {},
     "output_type": "execute_result"
    }
   ],
   "source": [
    "df_date.head(3)"
   ]
  },
  {
   "cell_type": "code",
   "execution_count": 57,
   "id": "1efc775d",
   "metadata": {},
   "outputs": [
    {
     "data": {
      "text/html": [
       "<div>\n",
       "<style scoped>\n",
       "    .dataframe tbody tr th:only-of-type {\n",
       "        vertical-align: middle;\n",
       "    }\n",
       "\n",
       "    .dataframe tbody tr th {\n",
       "        vertical-align: top;\n",
       "    }\n",
       "\n",
       "    .dataframe thead th {\n",
       "        text-align: right;\n",
       "    }\n",
       "</style>\n",
       "<table border=\"1\" class=\"dataframe\">\n",
       "  <thead>\n",
       "    <tr style=\"text-align: right;\">\n",
       "      <th></th>\n",
       "      <th>property_id</th>\n",
       "      <th>check_in_date</th>\n",
       "      <th>room_category</th>\n",
       "      <th>successful_bookings</th>\n",
       "      <th>capacity</th>\n",
       "      <th>occ_pct</th>\n",
       "      <th>room_class</th>\n",
       "      <th>property_name</th>\n",
       "      <th>category</th>\n",
       "      <th>city</th>\n",
       "      <th>date</th>\n",
       "      <th>mmm yy</th>\n",
       "      <th>week no</th>\n",
       "      <th>day_type</th>\n",
       "    </tr>\n",
       "  </thead>\n",
       "  <tbody>\n",
       "    <tr>\n",
       "      <th>0</th>\n",
       "      <td>19563</td>\n",
       "      <td>10-May-22</td>\n",
       "      <td>RT3</td>\n",
       "      <td>15</td>\n",
       "      <td>29.0</td>\n",
       "      <td>51.72</td>\n",
       "      <td>Premium</td>\n",
       "      <td>Atliq Palace</td>\n",
       "      <td>Business</td>\n",
       "      <td>Bangalore</td>\n",
       "      <td>10-May-22</td>\n",
       "      <td>May 22</td>\n",
       "      <td>W 20</td>\n",
       "      <td>weekeday</td>\n",
       "    </tr>\n",
       "    <tr>\n",
       "      <th>1</th>\n",
       "      <td>18560</td>\n",
       "      <td>10-May-22</td>\n",
       "      <td>RT1</td>\n",
       "      <td>19</td>\n",
       "      <td>30.0</td>\n",
       "      <td>63.33</td>\n",
       "      <td>Standard</td>\n",
       "      <td>Atliq City</td>\n",
       "      <td>Business</td>\n",
       "      <td>Hyderabad</td>\n",
       "      <td>10-May-22</td>\n",
       "      <td>May 22</td>\n",
       "      <td>W 20</td>\n",
       "      <td>weekeday</td>\n",
       "    </tr>\n",
       "    <tr>\n",
       "      <th>2</th>\n",
       "      <td>19562</td>\n",
       "      <td>10-May-22</td>\n",
       "      <td>RT1</td>\n",
       "      <td>18</td>\n",
       "      <td>30.0</td>\n",
       "      <td>60.00</td>\n",
       "      <td>Standard</td>\n",
       "      <td>Atliq Bay</td>\n",
       "      <td>Luxury</td>\n",
       "      <td>Bangalore</td>\n",
       "      <td>10-May-22</td>\n",
       "      <td>May 22</td>\n",
       "      <td>W 20</td>\n",
       "      <td>weekeday</td>\n",
       "    </tr>\n",
       "  </tbody>\n",
       "</table>\n",
       "</div>"
      ],
      "text/plain": [
       "   property_id check_in_date room_category  successful_bookings  capacity  \\\n",
       "0        19563     10-May-22           RT3                   15      29.0   \n",
       "1        18560     10-May-22           RT1                   19      30.0   \n",
       "2        19562     10-May-22           RT1                   18      30.0   \n",
       "\n",
       "   occ_pct room_class property_name  category       city       date  mmm yy  \\\n",
       "0    51.72    Premium  Atliq Palace  Business  Bangalore  10-May-22  May 22   \n",
       "1    63.33   Standard    Atliq City  Business  Hyderabad  10-May-22  May 22   \n",
       "2    60.00   Standard     Atliq Bay    Luxury  Bangalore  10-May-22  May 22   \n",
       "\n",
       "  week no  day_type  \n",
       "0    W 20  weekeday  \n",
       "1    W 20  weekeday  \n",
       "2    W 20  weekeday  "
      ]
     },
     "execution_count": 57,
     "metadata": {},
     "output_type": "execute_result"
    }
   ],
   "source": [
    "df = pd.merge(df, df_date, left_on=\"check_in_date\", right_on=\"date\")\n",
    "df.head(3)"
   ]
  },
  {
   "cell_type": "code",
   "execution_count": 58,
   "id": "74b9dddc",
   "metadata": {},
   "outputs": [
    {
     "data": {
      "text/plain": [
       "day_type\n",
       "weekeday    50.90\n",
       "weekend     72.39\n",
       "Name: occ_pct, dtype: float64"
      ]
     },
     "execution_count": 58,
     "metadata": {},
     "output_type": "execute_result"
    }
   ],
   "source": [
    "df.groupby(\"day_type\")[\"occ_pct\"].mean().round(2)"
   ]
  },
  {
   "cell_type": "markdown",
   "id": "908fd7b2",
   "metadata": {},
   "source": [
    "**4: In the month of June, what is the occupancy for different cities**"
   ]
  },
  {
   "cell_type": "code",
   "execution_count": 59,
   "id": "01cf3d06",
   "metadata": {},
   "outputs": [
    {
     "data": {
      "text/html": [
       "<div>\n",
       "<style scoped>\n",
       "    .dataframe tbody tr th:only-of-type {\n",
       "        vertical-align: middle;\n",
       "    }\n",
       "\n",
       "    .dataframe tbody tr th {\n",
       "        vertical-align: top;\n",
       "    }\n",
       "\n",
       "    .dataframe thead th {\n",
       "        text-align: right;\n",
       "    }\n",
       "</style>\n",
       "<table border=\"1\" class=\"dataframe\">\n",
       "  <thead>\n",
       "    <tr style=\"text-align: right;\">\n",
       "      <th></th>\n",
       "      <th>property_id</th>\n",
       "      <th>check_in_date</th>\n",
       "      <th>room_category</th>\n",
       "      <th>successful_bookings</th>\n",
       "      <th>capacity</th>\n",
       "      <th>occ_pct</th>\n",
       "      <th>room_class</th>\n",
       "      <th>property_name</th>\n",
       "      <th>category</th>\n",
       "      <th>city</th>\n",
       "      <th>date</th>\n",
       "      <th>mmm yy</th>\n",
       "      <th>week no</th>\n",
       "      <th>day_type</th>\n",
       "    </tr>\n",
       "  </thead>\n",
       "  <tbody>\n",
       "    <tr>\n",
       "      <th>2200</th>\n",
       "      <td>16559</td>\n",
       "      <td>10-Jun-22</td>\n",
       "      <td>RT1</td>\n",
       "      <td>20</td>\n",
       "      <td>30.0</td>\n",
       "      <td>66.67</td>\n",
       "      <td>Standard</td>\n",
       "      <td>Atliq Exotica</td>\n",
       "      <td>Luxury</td>\n",
       "      <td>Mumbai</td>\n",
       "      <td>10-Jun-22</td>\n",
       "      <td>Jun 22</td>\n",
       "      <td>W 24</td>\n",
       "      <td>weekeday</td>\n",
       "    </tr>\n",
       "    <tr>\n",
       "      <th>2201</th>\n",
       "      <td>19562</td>\n",
       "      <td>10-Jun-22</td>\n",
       "      <td>RT1</td>\n",
       "      <td>19</td>\n",
       "      <td>30.0</td>\n",
       "      <td>63.33</td>\n",
       "      <td>Standard</td>\n",
       "      <td>Atliq Bay</td>\n",
       "      <td>Luxury</td>\n",
       "      <td>Bangalore</td>\n",
       "      <td>10-Jun-22</td>\n",
       "      <td>Jun 22</td>\n",
       "      <td>W 24</td>\n",
       "      <td>weekeday</td>\n",
       "    </tr>\n",
       "    <tr>\n",
       "      <th>2202</th>\n",
       "      <td>19563</td>\n",
       "      <td>10-Jun-22</td>\n",
       "      <td>RT1</td>\n",
       "      <td>17</td>\n",
       "      <td>30.0</td>\n",
       "      <td>56.67</td>\n",
       "      <td>Standard</td>\n",
       "      <td>Atliq Palace</td>\n",
       "      <td>Business</td>\n",
       "      <td>Bangalore</td>\n",
       "      <td>10-Jun-22</td>\n",
       "      <td>Jun 22</td>\n",
       "      <td>W 24</td>\n",
       "      <td>weekeday</td>\n",
       "    </tr>\n",
       "    <tr>\n",
       "      <th>2203</th>\n",
       "      <td>17558</td>\n",
       "      <td>10-Jun-22</td>\n",
       "      <td>RT1</td>\n",
       "      <td>9</td>\n",
       "      <td>19.0</td>\n",
       "      <td>47.37</td>\n",
       "      <td>Standard</td>\n",
       "      <td>Atliq Grands</td>\n",
       "      <td>Luxury</td>\n",
       "      <td>Mumbai</td>\n",
       "      <td>10-Jun-22</td>\n",
       "      <td>Jun 22</td>\n",
       "      <td>W 24</td>\n",
       "      <td>weekeday</td>\n",
       "    </tr>\n",
       "  </tbody>\n",
       "</table>\n",
       "</div>"
      ],
      "text/plain": [
       "      property_id check_in_date room_category  successful_bookings  capacity  \\\n",
       "2200        16559     10-Jun-22           RT1                   20      30.0   \n",
       "2201        19562     10-Jun-22           RT1                   19      30.0   \n",
       "2202        19563     10-Jun-22           RT1                   17      30.0   \n",
       "2203        17558     10-Jun-22           RT1                    9      19.0   \n",
       "\n",
       "      occ_pct room_class  property_name  category       city       date  \\\n",
       "2200    66.67   Standard  Atliq Exotica    Luxury     Mumbai  10-Jun-22   \n",
       "2201    63.33   Standard      Atliq Bay    Luxury  Bangalore  10-Jun-22   \n",
       "2202    56.67   Standard   Atliq Palace  Business  Bangalore  10-Jun-22   \n",
       "2203    47.37   Standard   Atliq Grands    Luxury     Mumbai  10-Jun-22   \n",
       "\n",
       "      mmm yy week no  day_type  \n",
       "2200  Jun 22    W 24  weekeday  \n",
       "2201  Jun 22    W 24  weekeday  \n",
       "2202  Jun 22    W 24  weekeday  \n",
       "2203  Jun 22    W 24  weekeday  "
      ]
     },
     "execution_count": 59,
     "metadata": {},
     "output_type": "execute_result"
    }
   ],
   "source": [
    "df_june_22 = df[df[\"mmm yy\"]==\"Jun 22\"]\n",
    "df_june_22.head(4)"
   ]
  },
  {
   "cell_type": "code",
   "execution_count": 60,
   "id": "57ae00a4",
   "metadata": {},
   "outputs": [
    {
     "data": {
      "text/plain": [
       "city\n",
       "Delhi        62.47\n",
       "Hyderabad    58.46\n",
       "Mumbai       58.38\n",
       "Bangalore    56.58\n",
       "Name: occ_pct, dtype: float64"
      ]
     },
     "execution_count": 60,
     "metadata": {},
     "output_type": "execute_result"
    }
   ],
   "source": [
    "df_june_22.groupby('city')['occ_pct'].mean().round(2).sort_values(ascending=False)"
   ]
  },
  {
   "cell_type": "code",
   "execution_count": 61,
   "id": "b113d091",
   "metadata": {},
   "outputs": [
    {
     "data": {
      "text/plain": [
       "<Axes: xlabel='city'>"
      ]
     },
     "execution_count": 61,
     "metadata": {},
     "output_type": "execute_result"
    },
    {
     "data": {
      "image/png": "[encoded data removed]",
      "text/plain": [
       "<Figure size 640x480 with 1 Axes>"
      ]
     },
     "metadata": {},
     "output_type": "display_data"
    }
   ],
   "source": [
    "df_june_22.groupby('city')['occ_pct'].mean().round(2).sort_values(ascending=False).plot(kind=\"bar\")"
   ]
  },
  {
   "cell_type": "markdown",
   "id": "822ea61a",
   "metadata": {},
   "source": [
    "**5: We got new data for the month of august. Append that to existing data**"
   ]
  },
  {
   "cell_type": "code",
   "execution_count": 62,
   "id": "30d867c8",
   "metadata": {
    "scrolled": true
   },
   "outputs": [
    {
     "data": {
      "text/html": [
       "<div>\n",
       "<style scoped>\n",
       "    .dataframe tbody tr th:only-of-type {\n",
       "        vertical-align: middle;\n",
       "    }\n",
       "\n",
       "    .dataframe tbody tr th {\n",
       "        vertical-align: top;\n",
       "    }\n",
       "\n",
       "    .dataframe thead th {\n",
       "        text-align: right;\n",
       "    }\n",
       "</style>\n",
       "<table border=\"1\" class=\"dataframe\">\n",
       "  <thead>\n",
       "    <tr style=\"text-align: right;\">\n",
       "      <th></th>\n",
       "      <th>property_id</th>\n",
       "      <th>property_name</th>\n",
       "      <th>category</th>\n",
       "      <th>city</th>\n",
       "      <th>room_category</th>\n",
       "      <th>room_class</th>\n",
       "      <th>check_in_date</th>\n",
       "      <th>mmm yy</th>\n",
       "      <th>week no</th>\n",
       "      <th>day_type</th>\n",
       "      <th>successful_bookings</th>\n",
       "      <th>capacity</th>\n",
       "      <th>occ%</th>\n",
       "    </tr>\n",
       "  </thead>\n",
       "  <tbody>\n",
       "    <tr>\n",
       "      <th>0</th>\n",
       "      <td>16559</td>\n",
       "      <td>Atliq Exotica</td>\n",
       "      <td>Luxury</td>\n",
       "      <td>Mumbai</td>\n",
       "      <td>RT1</td>\n",
       "      <td>Standard</td>\n",
       "      <td>01-Aug-22</td>\n",
       "      <td>Aug-22</td>\n",
       "      <td>W 32</td>\n",
       "      <td>weekeday</td>\n",
       "      <td>30</td>\n",
       "      <td>30</td>\n",
       "      <td>100.00</td>\n",
       "    </tr>\n",
       "    <tr>\n",
       "      <th>1</th>\n",
       "      <td>19562</td>\n",
       "      <td>Atliq Bay</td>\n",
       "      <td>Luxury</td>\n",
       "      <td>Bangalore</td>\n",
       "      <td>RT1</td>\n",
       "      <td>Standard</td>\n",
       "      <td>01-Aug-22</td>\n",
       "      <td>Aug-22</td>\n",
       "      <td>W 32</td>\n",
       "      <td>weekeday</td>\n",
       "      <td>21</td>\n",
       "      <td>30</td>\n",
       "      <td>70.00</td>\n",
       "    </tr>\n",
       "    <tr>\n",
       "      <th>2</th>\n",
       "      <td>19563</td>\n",
       "      <td>Atliq Palace</td>\n",
       "      <td>Business</td>\n",
       "      <td>Bangalore</td>\n",
       "      <td>RT1</td>\n",
       "      <td>Standard</td>\n",
       "      <td>01-Aug-22</td>\n",
       "      <td>Aug-22</td>\n",
       "      <td>W 32</td>\n",
       "      <td>weekeday</td>\n",
       "      <td>23</td>\n",
       "      <td>30</td>\n",
       "      <td>76.67</td>\n",
       "    </tr>\n",
       "  </tbody>\n",
       "</table>\n",
       "</div>"
      ],
      "text/plain": [
       "   property_id  property_name  category       city room_category room_class  \\\n",
       "0        16559  Atliq Exotica    Luxury     Mumbai           RT1   Standard   \n",
       "1        19562      Atliq Bay    Luxury  Bangalore           RT1   Standard   \n",
       "2        19563   Atliq Palace  Business  Bangalore           RT1   Standard   \n",
       "\n",
       "  check_in_date  mmm yy week no  day_type  successful_bookings  capacity  \\\n",
       "0     01-Aug-22  Aug-22    W 32  weekeday                   30        30   \n",
       "1     01-Aug-22  Aug-22    W 32  weekeday                   21        30   \n",
       "2     01-Aug-22  Aug-22    W 32  weekeday                   23        30   \n",
       "\n",
       "     occ%  \n",
       "0  100.00  \n",
       "1   70.00  \n",
       "2   76.67  "
      ]
     },
     "execution_count": 62,
     "metadata": {},
     "output_type": "execute_result"
    }
   ],
   "source": [
    "df_august = pd.read_csv(\"datasets/new_data_august.csv\")\n",
    "df_august.head(3)"
   ]
  },
  {
   "cell_type": "code",
   "execution_count": 63,
   "id": "927c5677",
   "metadata": {
    "scrolled": true
   },
   "outputs": [
    {
     "data": {
      "text/plain": [
       "Index(['property_id', 'property_name', 'category', 'city', 'room_category',\n",
       "       'room_class', 'check_in_date', 'mmm yy', 'week no', 'day_type',\n",
       "       'successful_bookings', 'capacity', 'occ%'],\n",
       "      dtype='object')"
      ]
     },
     "execution_count": 63,
     "metadata": {},
     "output_type": "execute_result"
    }
   ],
   "source": [
    "df_august.columns"
   ]
  },
  {
   "cell_type": "code",
   "execution_count": 64,
   "id": "95366815",
   "metadata": {
    "scrolled": true
   },
   "outputs": [
    {
     "data": {
      "text/plain": [
       "Index(['property_id', 'check_in_date', 'room_category', 'successful_bookings',\n",
       "       'capacity', 'occ_pct', 'room_class', 'property_name', 'category',\n",
       "       'city', 'date', 'mmm yy', 'week no', 'day_type'],\n",
       "      dtype='object')"
      ]
     },
     "execution_count": 64,
     "metadata": {},
     "output_type": "execute_result"
    }
   ],
   "source": [
    "df.columns"
   ]
  },
  {
   "cell_type": "code",
   "execution_count": 65,
   "id": "d406e514",
   "metadata": {},
   "outputs": [
    {
     "data": {
      "text/plain": [
       "(7, 13)"
      ]
     },
     "execution_count": 65,
     "metadata": {},
     "output_type": "execute_result"
    }
   ],
   "source": [
    "df_august.shape"
   ]
  },
  {
   "cell_type": "code",
   "execution_count": 66,
   "id": "53392f75",
   "metadata": {},
   "outputs": [
    {
     "data": {
      "text/plain": [
       "(6500, 14)"
      ]
     },
     "execution_count": 66,
     "metadata": {},
     "output_type": "execute_result"
    }
   ],
   "source": [
    "df.shape"
   ]
  },
  {
   "cell_type": "code",
   "execution_count": 67,
   "id": "f047c610",
   "metadata": {},
   "outputs": [
    {
     "data": {
      "text/html": [
       "<div>\n",
       "<style scoped>\n",
       "    .dataframe tbody tr th:only-of-type {\n",
       "        vertical-align: middle;\n",
       "    }\n",
       "\n",
       "    .dataframe tbody tr th {\n",
       "        vertical-align: top;\n",
       "    }\n",
       "\n",
       "    .dataframe thead th {\n",
       "        text-align: right;\n",
       "    }\n",
       "</style>\n",
       "<table border=\"1\" class=\"dataframe\">\n",
       "  <thead>\n",
       "    <tr style=\"text-align: right;\">\n",
       "      <th></th>\n",
       "      <th>property_id</th>\n",
       "      <th>check_in_date</th>\n",
       "      <th>room_category</th>\n",
       "      <th>successful_bookings</th>\n",
       "      <th>capacity</th>\n",
       "      <th>occ_pct</th>\n",
       "      <th>room_class</th>\n",
       "      <th>property_name</th>\n",
       "      <th>category</th>\n",
       "      <th>city</th>\n",
       "      <th>date</th>\n",
       "      <th>mmm yy</th>\n",
       "      <th>week no</th>\n",
       "      <th>day_type</th>\n",
       "      <th>occ%</th>\n",
       "    </tr>\n",
       "  </thead>\n",
       "  <tbody>\n",
       "    <tr>\n",
       "      <th>6497</th>\n",
       "      <td>17558</td>\n",
       "      <td>31-Jul-22</td>\n",
       "      <td>RT4</td>\n",
       "      <td>3</td>\n",
       "      <td>6.0</td>\n",
       "      <td>50.0</td>\n",
       "      <td>Presidential</td>\n",
       "      <td>Atliq Grands</td>\n",
       "      <td>Luxury</td>\n",
       "      <td>Mumbai</td>\n",
       "      <td>31-Jul-22</td>\n",
       "      <td>Jul 22</td>\n",
       "      <td>W 32</td>\n",
       "      <td>weekend</td>\n",
       "      <td>NaN</td>\n",
       "    </tr>\n",
       "    <tr>\n",
       "      <th>6498</th>\n",
       "      <td>19563</td>\n",
       "      <td>31-Jul-22</td>\n",
       "      <td>RT4</td>\n",
       "      <td>3</td>\n",
       "      <td>6.0</td>\n",
       "      <td>50.0</td>\n",
       "      <td>Presidential</td>\n",
       "      <td>Atliq Palace</td>\n",
       "      <td>Business</td>\n",
       "      <td>Bangalore</td>\n",
       "      <td>31-Jul-22</td>\n",
       "      <td>Jul 22</td>\n",
       "      <td>W 32</td>\n",
       "      <td>weekend</td>\n",
       "      <td>NaN</td>\n",
       "    </tr>\n",
       "    <tr>\n",
       "      <th>6499</th>\n",
       "      <td>17561</td>\n",
       "      <td>31-Jul-22</td>\n",
       "      <td>RT4</td>\n",
       "      <td>3</td>\n",
       "      <td>4.0</td>\n",
       "      <td>75.0</td>\n",
       "      <td>Presidential</td>\n",
       "      <td>Atliq Blu</td>\n",
       "      <td>Luxury</td>\n",
       "      <td>Mumbai</td>\n",
       "      <td>31-Jul-22</td>\n",
       "      <td>Jul 22</td>\n",
       "      <td>W 32</td>\n",
       "      <td>weekend</td>\n",
       "      <td>NaN</td>\n",
       "    </tr>\n",
       "    <tr>\n",
       "      <th>6500</th>\n",
       "      <td>16559</td>\n",
       "      <td>01-Aug-22</td>\n",
       "      <td>RT1</td>\n",
       "      <td>30</td>\n",
       "      <td>30.0</td>\n",
       "      <td>NaN</td>\n",
       "      <td>Standard</td>\n",
       "      <td>Atliq Exotica</td>\n",
       "      <td>Luxury</td>\n",
       "      <td>Mumbai</td>\n",
       "      <td>NaN</td>\n",
       "      <td>Aug-22</td>\n",
       "      <td>W 32</td>\n",
       "      <td>weekeday</td>\n",
       "      <td>100.00</td>\n",
       "    </tr>\n",
       "    <tr>\n",
       "      <th>6501</th>\n",
       "      <td>19562</td>\n",
       "      <td>01-Aug-22</td>\n",
       "      <td>RT1</td>\n",
       "      <td>21</td>\n",
       "      <td>30.0</td>\n",
       "      <td>NaN</td>\n",
       "      <td>Standard</td>\n",
       "      <td>Atliq Bay</td>\n",
       "      <td>Luxury</td>\n",
       "      <td>Bangalore</td>\n",
       "      <td>NaN</td>\n",
       "      <td>Aug-22</td>\n",
       "      <td>W 32</td>\n",
       "      <td>weekeday</td>\n",
       "      <td>70.00</td>\n",
       "    </tr>\n",
       "    <tr>\n",
       "      <th>6502</th>\n",
       "      <td>19563</td>\n",
       "      <td>01-Aug-22</td>\n",
       "      <td>RT1</td>\n",
       "      <td>23</td>\n",
       "      <td>30.0</td>\n",
       "      <td>NaN</td>\n",
       "      <td>Standard</td>\n",
       "      <td>Atliq Palace</td>\n",
       "      <td>Business</td>\n",
       "      <td>Bangalore</td>\n",
       "      <td>NaN</td>\n",
       "      <td>Aug-22</td>\n",
       "      <td>W 32</td>\n",
       "      <td>weekeday</td>\n",
       "      <td>76.67</td>\n",
       "    </tr>\n",
       "    <tr>\n",
       "      <th>6503</th>\n",
       "      <td>19558</td>\n",
       "      <td>01-Aug-22</td>\n",
       "      <td>RT1</td>\n",
       "      <td>30</td>\n",
       "      <td>40.0</td>\n",
       "      <td>NaN</td>\n",
       "      <td>Standard</td>\n",
       "      <td>Atliq Grands</td>\n",
       "      <td>Luxury</td>\n",
       "      <td>Bangalore</td>\n",
       "      <td>NaN</td>\n",
       "      <td>Aug-22</td>\n",
       "      <td>W 32</td>\n",
       "      <td>weekeday</td>\n",
       "      <td>75.00</td>\n",
       "    </tr>\n",
       "    <tr>\n",
       "      <th>6504</th>\n",
       "      <td>19560</td>\n",
       "      <td>01-Aug-22</td>\n",
       "      <td>RT1</td>\n",
       "      <td>20</td>\n",
       "      <td>26.0</td>\n",
       "      <td>NaN</td>\n",
       "      <td>Standard</td>\n",
       "      <td>Atliq City</td>\n",
       "      <td>Business</td>\n",
       "      <td>Bangalore</td>\n",
       "      <td>NaN</td>\n",
       "      <td>Aug-22</td>\n",
       "      <td>W 32</td>\n",
       "      <td>weekeday</td>\n",
       "      <td>76.92</td>\n",
       "    </tr>\n",
       "    <tr>\n",
       "      <th>6505</th>\n",
       "      <td>17561</td>\n",
       "      <td>01-Aug-22</td>\n",
       "      <td>RT1</td>\n",
       "      <td>18</td>\n",
       "      <td>26.0</td>\n",
       "      <td>NaN</td>\n",
       "      <td>Standard</td>\n",
       "      <td>Atliq Blu</td>\n",
       "      <td>Luxury</td>\n",
       "      <td>Mumbai</td>\n",
       "      <td>NaN</td>\n",
       "      <td>Aug-22</td>\n",
       "      <td>W 32</td>\n",
       "      <td>weekeday</td>\n",
       "      <td>69.23</td>\n",
       "    </tr>\n",
       "    <tr>\n",
       "      <th>6506</th>\n",
       "      <td>17564</td>\n",
       "      <td>01-Aug-22</td>\n",
       "      <td>RT1</td>\n",
       "      <td>10</td>\n",
       "      <td>16.0</td>\n",
       "      <td>NaN</td>\n",
       "      <td>Standard</td>\n",
       "      <td>Atliq Seasons</td>\n",
       "      <td>Business</td>\n",
       "      <td>Mumbai</td>\n",
       "      <td>NaN</td>\n",
       "      <td>Aug-22</td>\n",
       "      <td>W 32</td>\n",
       "      <td>weekeday</td>\n",
       "      <td>62.50</td>\n",
       "    </tr>\n",
       "  </tbody>\n",
       "</table>\n",
       "</div>"
      ],
      "text/plain": [
       "      property_id check_in_date room_category  successful_bookings  capacity  \\\n",
       "6497        17558     31-Jul-22           RT4                    3       6.0   \n",
       "6498        19563     31-Jul-22           RT4                    3       6.0   \n",
       "6499        17561     31-Jul-22           RT4                    3       4.0   \n",
       "6500        16559     01-Aug-22           RT1                   30      30.0   \n",
       "6501        19562     01-Aug-22           RT1                   21      30.0   \n",
       "6502        19563     01-Aug-22           RT1                   23      30.0   \n",
       "6503        19558     01-Aug-22           RT1                   30      40.0   \n",
       "6504        19560     01-Aug-22           RT1                   20      26.0   \n",
       "6505        17561     01-Aug-22           RT1                   18      26.0   \n",
       "6506        17564     01-Aug-22           RT1                   10      16.0   \n",
       "\n",
       "      occ_pct    room_class  property_name  category       city       date  \\\n",
       "6497     50.0  Presidential   Atliq Grands    Luxury     Mumbai  31-Jul-22   \n",
       "6498     50.0  Presidential   Atliq Palace  Business  Bangalore  31-Jul-22   \n",
       "6499     75.0  Presidential      Atliq Blu    Luxury     Mumbai  31-Jul-22   \n",
       "6500      NaN      Standard  Atliq Exotica    Luxury     Mumbai        NaN   \n",
       "6501      NaN      Standard      Atliq Bay    Luxury  Bangalore        NaN   \n",
       "6502      NaN      Standard   Atliq Palace  Business  Bangalore        NaN   \n",
       "6503      NaN      Standard   Atliq Grands    Luxury  Bangalore        NaN   \n",
       "6504      NaN      Standard     Atliq City  Business  Bangalore        NaN   \n",
       "6505      NaN      Standard      Atliq Blu    Luxury     Mumbai        NaN   \n",
       "6506      NaN      Standard  Atliq Seasons  Business     Mumbai        NaN   \n",
       "\n",
       "      mmm yy week no  day_type    occ%  \n",
       "6497  Jul 22    W 32   weekend     NaN  \n",
       "6498  Jul 22    W 32   weekend     NaN  \n",
       "6499  Jul 22    W 32   weekend     NaN  \n",
       "6500  Aug-22    W 32  weekeday  100.00  \n",
       "6501  Aug-22    W 32  weekeday   70.00  \n",
       "6502  Aug-22    W 32  weekeday   76.67  \n",
       "6503  Aug-22    W 32  weekeday   75.00  \n",
       "6504  Aug-22    W 32  weekeday   76.92  \n",
       "6505  Aug-22    W 32  weekeday   69.23  \n",
       "6506  Aug-22    W 32  weekeday   62.50  "
      ]
     },
     "execution_count": 67,
     "metadata": {},
     "output_type": "execute_result"
    }
   ],
   "source": [
    "latest_df = pd.concat([df, df_august], ignore_index = True, axis = 0)\n",
    "latest_df.tail(10)"
   ]
  },
  {
   "cell_type": "code",
   "execution_count": 68,
   "id": "94c111ce",
   "metadata": {
    "scrolled": true
   },
   "outputs": [
    {
     "data": {
      "text/plain": [
       "(6507, 15)"
      ]
     },
     "execution_count": 68,
     "metadata": {},
     "output_type": "execute_result"
    }
   ],
   "source": [
    "latest_df.shape"
   ]
  },
  {
   "cell_type": "markdown",
   "id": "61aa3997",
   "metadata": {},
   "source": [
    "**6. Print revenue realized per city**"
   ]
  },
  {
   "cell_type": "code",
   "execution_count": 69,
   "id": "caa98149",
   "metadata": {},
   "outputs": [
    {
     "data": {
      "text/html": [
       "<div>\n",
       "<style scoped>\n",
       "    .dataframe tbody tr th:only-of-type {\n",
       "        vertical-align: middle;\n",
       "    }\n",
       "\n",
       "    .dataframe tbody tr th {\n",
       "        vertical-align: top;\n",
       "    }\n",
       "\n",
       "    .dataframe thead th {\n",
       "        text-align: right;\n",
       "    }\n",
       "</style>\n",
       "<table border=\"1\" class=\"dataframe\">\n",
       "  <thead>\n",
       "    <tr style=\"text-align: right;\">\n",
       "      <th></th>\n",
       "      <th>booking_id</th>\n",
       "      <th>property_id</th>\n",
       "      <th>booking_date</th>\n",
       "      <th>check_in_date</th>\n",
       "      <th>checkout_date</th>\n",
       "      <th>no_guests</th>\n",
       "      <th>room_category</th>\n",
       "      <th>booking_platform</th>\n",
       "      <th>ratings_given</th>\n",
       "      <th>booking_status</th>\n",
       "      <th>revenue_generated</th>\n",
       "      <th>revenue_realized</th>\n",
       "    </tr>\n",
       "  </thead>\n",
       "  <tbody>\n",
       "    <tr>\n",
       "      <th>1</th>\n",
       "      <td>May012216558RT12</td>\n",
       "      <td>16558</td>\n",
       "      <td>30-04-22</td>\n",
       "      <td>1/5/2022</td>\n",
       "      <td>2/5/2022</td>\n",
       "      <td>2.0</td>\n",
       "      <td>RT1</td>\n",
       "      <td>others</td>\n",
       "      <td>NaN</td>\n",
       "      <td>Cancelled</td>\n",
       "      <td>9100</td>\n",
       "      <td>3640</td>\n",
       "    </tr>\n",
       "    <tr>\n",
       "      <th>4</th>\n",
       "      <td>May012216558RT15</td>\n",
       "      <td>16558</td>\n",
       "      <td>27-04-22</td>\n",
       "      <td>1/5/2022</td>\n",
       "      <td>2/5/2022</td>\n",
       "      <td>4.0</td>\n",
       "      <td>RT1</td>\n",
       "      <td>direct online</td>\n",
       "      <td>5.0</td>\n",
       "      <td>Checked Out</td>\n",
       "      <td>10920</td>\n",
       "      <td>10920</td>\n",
       "    </tr>\n",
       "    <tr>\n",
       "      <th>5</th>\n",
       "      <td>May012216558RT16</td>\n",
       "      <td>16558</td>\n",
       "      <td>1/5/2022</td>\n",
       "      <td>1/5/2022</td>\n",
       "      <td>3/5/2022</td>\n",
       "      <td>2.0</td>\n",
       "      <td>RT1</td>\n",
       "      <td>others</td>\n",
       "      <td>4.0</td>\n",
       "      <td>Checked Out</td>\n",
       "      <td>9100</td>\n",
       "      <td>9100</td>\n",
       "    </tr>\n",
       "    <tr>\n",
       "      <th>6</th>\n",
       "      <td>May012216558RT17</td>\n",
       "      <td>16558</td>\n",
       "      <td>28-04-22</td>\n",
       "      <td>1/5/2022</td>\n",
       "      <td>6/5/2022</td>\n",
       "      <td>2.0</td>\n",
       "      <td>RT1</td>\n",
       "      <td>others</td>\n",
       "      <td>NaN</td>\n",
       "      <td>Cancelled</td>\n",
       "      <td>9100</td>\n",
       "      <td>3640</td>\n",
       "    </tr>\n",
       "    <tr>\n",
       "      <th>7</th>\n",
       "      <td>May012216558RT18</td>\n",
       "      <td>16558</td>\n",
       "      <td>26-04-22</td>\n",
       "      <td>1/5/2022</td>\n",
       "      <td>3/5/2022</td>\n",
       "      <td>2.0</td>\n",
       "      <td>RT1</td>\n",
       "      <td>logtrip</td>\n",
       "      <td>NaN</td>\n",
       "      <td>No Show</td>\n",
       "      <td>9100</td>\n",
       "      <td>9100</td>\n",
       "    </tr>\n",
       "  </tbody>\n",
       "</table>\n",
       "</div>"
      ],
      "text/plain": [
       "         booking_id  property_id booking_date check_in_date checkout_date  \\\n",
       "1  May012216558RT12        16558     30-04-22      1/5/2022      2/5/2022   \n",
       "4  May012216558RT15        16558     27-04-22      1/5/2022      2/5/2022   \n",
       "5  May012216558RT16        16558     1/5/2022      1/5/2022      3/5/2022   \n",
       "6  May012216558RT17        16558     28-04-22      1/5/2022      6/5/2022   \n",
       "7  May012216558RT18        16558     26-04-22      1/5/2022      3/5/2022   \n",
       "\n",
       "   no_guests room_category booking_platform  ratings_given booking_status  \\\n",
       "1        2.0           RT1           others            NaN      Cancelled   \n",
       "4        4.0           RT1    direct online            5.0    Checked Out   \n",
       "5        2.0           RT1           others            4.0    Checked Out   \n",
       "6        2.0           RT1           others            NaN      Cancelled   \n",
       "7        2.0           RT1          logtrip            NaN        No Show   \n",
       "\n",
       "   revenue_generated  revenue_realized  \n",
       "1               9100              3640  \n",
       "4              10920             10920  \n",
       "5               9100              9100  \n",
       "6               9100              3640  \n",
       "7               9100              9100  "
      ]
     },
     "execution_count": 69,
     "metadata": {},
     "output_type": "execute_result"
    }
   ],
   "source": [
    "df_bookings.head()"
   ]
  },
  {
   "cell_type": "code",
   "execution_count": 70,
   "id": "79131c3a",
   "metadata": {},
   "outputs": [
    {
     "data": {
      "text/html": [
       "<div>\n",
       "<style scoped>\n",
       "    .dataframe tbody tr th:only-of-type {\n",
       "        vertical-align: middle;\n",
       "    }\n",
       "\n",
       "    .dataframe tbody tr th {\n",
       "        vertical-align: top;\n",
       "    }\n",
       "\n",
       "    .dataframe thead th {\n",
       "        text-align: right;\n",
       "    }\n",
       "</style>\n",
       "<table border=\"1\" class=\"dataframe\">\n",
       "  <thead>\n",
       "    <tr style=\"text-align: right;\">\n",
       "      <th></th>\n",
       "      <th>property_id</th>\n",
       "      <th>property_name</th>\n",
       "      <th>category</th>\n",
       "      <th>city</th>\n",
       "    </tr>\n",
       "  </thead>\n",
       "  <tbody>\n",
       "    <tr>\n",
       "      <th>0</th>\n",
       "      <td>16558</td>\n",
       "      <td>Atliq Grands</td>\n",
       "      <td>Luxury</td>\n",
       "      <td>Delhi</td>\n",
       "    </tr>\n",
       "    <tr>\n",
       "      <th>1</th>\n",
       "      <td>16559</td>\n",
       "      <td>Atliq Exotica</td>\n",
       "      <td>Luxury</td>\n",
       "      <td>Mumbai</td>\n",
       "    </tr>\n",
       "    <tr>\n",
       "      <th>2</th>\n",
       "      <td>16560</td>\n",
       "      <td>Atliq City</td>\n",
       "      <td>Business</td>\n",
       "      <td>Delhi</td>\n",
       "    </tr>\n",
       "  </tbody>\n",
       "</table>\n",
       "</div>"
      ],
      "text/plain": [
       "   property_id  property_name  category    city\n",
       "0        16558   Atliq Grands    Luxury   Delhi\n",
       "1        16559  Atliq Exotica    Luxury  Mumbai\n",
       "2        16560     Atliq City  Business   Delhi"
      ]
     },
     "execution_count": 70,
     "metadata": {},
     "output_type": "execute_result"
    }
   ],
   "source": [
    "df_hotels.head(3)"
   ]
  },
  {
   "cell_type": "code",
   "execution_count": 71,
   "id": "5fc72559",
   "metadata": {
    "scrolled": true
   },
   "outputs": [
    {
     "data": {
      "text/html": [
       "<div>\n",
       "<style scoped>\n",
       "    .dataframe tbody tr th:only-of-type {\n",
       "        vertical-align: middle;\n",
       "    }\n",
       "\n",
       "    .dataframe tbody tr th {\n",
       "        vertical-align: top;\n",
       "    }\n",
       "\n",
       "    .dataframe thead th {\n",
       "        text-align: right;\n",
       "    }\n",
       "</style>\n",
       "<table border=\"1\" class=\"dataframe\">\n",
       "  <thead>\n",
       "    <tr style=\"text-align: right;\">\n",
       "      <th></th>\n",
       "      <th>booking_id</th>\n",
       "      <th>property_id</th>\n",
       "      <th>booking_date</th>\n",
       "      <th>check_in_date</th>\n",
       "      <th>checkout_date</th>\n",
       "      <th>no_guests</th>\n",
       "      <th>room_category</th>\n",
       "      <th>booking_platform</th>\n",
       "      <th>ratings_given</th>\n",
       "      <th>booking_status</th>\n",
       "      <th>revenue_generated</th>\n",
       "      <th>revenue_realized</th>\n",
       "      <th>property_name</th>\n",
       "      <th>category</th>\n",
       "      <th>city</th>\n",
       "    </tr>\n",
       "  </thead>\n",
       "  <tbody>\n",
       "    <tr>\n",
       "      <th>0</th>\n",
       "      <td>May012216558RT12</td>\n",
       "      <td>16558</td>\n",
       "      <td>30-04-22</td>\n",
       "      <td>1/5/2022</td>\n",
       "      <td>2/5/2022</td>\n",
       "      <td>2.0</td>\n",
       "      <td>RT1</td>\n",
       "      <td>others</td>\n",
       "      <td>NaN</td>\n",
       "      <td>Cancelled</td>\n",
       "      <td>9100</td>\n",
       "      <td>3640</td>\n",
       "      <td>Atliq Grands</td>\n",
       "      <td>Luxury</td>\n",
       "      <td>Delhi</td>\n",
       "    </tr>\n",
       "    <tr>\n",
       "      <th>1</th>\n",
       "      <td>May012216558RT15</td>\n",
       "      <td>16558</td>\n",
       "      <td>27-04-22</td>\n",
       "      <td>1/5/2022</td>\n",
       "      <td>2/5/2022</td>\n",
       "      <td>4.0</td>\n",
       "      <td>RT1</td>\n",
       "      <td>direct online</td>\n",
       "      <td>5.0</td>\n",
       "      <td>Checked Out</td>\n",
       "      <td>10920</td>\n",
       "      <td>10920</td>\n",
       "      <td>Atliq Grands</td>\n",
       "      <td>Luxury</td>\n",
       "      <td>Delhi</td>\n",
       "    </tr>\n",
       "    <tr>\n",
       "      <th>2</th>\n",
       "      <td>May012216558RT16</td>\n",
       "      <td>16558</td>\n",
       "      <td>1/5/2022</td>\n",
       "      <td>1/5/2022</td>\n",
       "      <td>3/5/2022</td>\n",
       "      <td>2.0</td>\n",
       "      <td>RT1</td>\n",
       "      <td>others</td>\n",
       "      <td>4.0</td>\n",
       "      <td>Checked Out</td>\n",
       "      <td>9100</td>\n",
       "      <td>9100</td>\n",
       "      <td>Atliq Grands</td>\n",
       "      <td>Luxury</td>\n",
       "      <td>Delhi</td>\n",
       "    </tr>\n",
       "  </tbody>\n",
       "</table>\n",
       "</div>"
      ],
      "text/plain": [
       "         booking_id  property_id booking_date check_in_date checkout_date  \\\n",
       "0  May012216558RT12        16558     30-04-22      1/5/2022      2/5/2022   \n",
       "1  May012216558RT15        16558     27-04-22      1/5/2022      2/5/2022   \n",
       "2  May012216558RT16        16558     1/5/2022      1/5/2022      3/5/2022   \n",
       "\n",
       "   no_guests room_category booking_platform  ratings_given booking_status  \\\n",
       "0        2.0           RT1           others            NaN      Cancelled   \n",
       "1        4.0           RT1    direct online            5.0    Checked Out   \n",
       "2        2.0           RT1           others            4.0    Checked Out   \n",
       "\n",
       "   revenue_generated  revenue_realized property_name category   city  \n",
       "0               9100              3640  Atliq Grands   Luxury  Delhi  \n",
       "1              10920             10920  Atliq Grands   Luxury  Delhi  \n",
       "2               9100              9100  Atliq Grands   Luxury  Delhi  "
      ]
     },
     "execution_count": 71,
     "metadata": {},
     "output_type": "execute_result"
    }
   ],
   "source": [
    "df_bookings_all = pd.merge(df_bookings, df_hotels, on=\"property_id\")\n",
    "df_bookings_all.head(3)"
   ]
  },
  {
   "cell_type": "code",
   "execution_count": 72,
   "id": "54e418e1",
   "metadata": {},
   "outputs": [
    {
     "data": {
      "text/plain": [
       "city\n",
       "Bangalore    420383550\n",
       "Delhi        294404488\n",
       "Hyderabad    325179310\n",
       "Mumbai       668569251\n",
       "Name: revenue_realized, dtype: int64"
      ]
     },
     "execution_count": 72,
     "metadata": {},
     "output_type": "execute_result"
    }
   ],
   "source": [
    "df_bookings_all.groupby(\"city\")[\"revenue_realized\"].sum()"
   ]
  },
  {
   "cell_type": "markdown",
   "id": "71299a17",
   "metadata": {},
   "source": [
    "**7. Print month by month revenue**"
   ]
  },
  {
   "cell_type": "code",
   "execution_count": 73,
   "id": "dd012b80",
   "metadata": {},
   "outputs": [
    {
     "data": {
      "text/html": [
       "<div>\n",
       "<style scoped>\n",
       "    .dataframe tbody tr th:only-of-type {\n",
       "        vertical-align: middle;\n",
       "    }\n",
       "\n",
       "    .dataframe tbody tr th {\n",
       "        vertical-align: top;\n",
       "    }\n",
       "\n",
       "    .dataframe thead th {\n",
       "        text-align: right;\n",
       "    }\n",
       "</style>\n",
       "<table border=\"1\" class=\"dataframe\">\n",
       "  <thead>\n",
       "    <tr style=\"text-align: right;\">\n",
       "      <th></th>\n",
       "      <th>date</th>\n",
       "      <th>mmm yy</th>\n",
       "      <th>week no</th>\n",
       "      <th>day_type</th>\n",
       "    </tr>\n",
       "  </thead>\n",
       "  <tbody>\n",
       "    <tr>\n",
       "      <th>0</th>\n",
       "      <td>01-May-22</td>\n",
       "      <td>May 22</td>\n",
       "      <td>W 19</td>\n",
       "      <td>weekend</td>\n",
       "    </tr>\n",
       "    <tr>\n",
       "      <th>1</th>\n",
       "      <td>02-May-22</td>\n",
       "      <td>May 22</td>\n",
       "      <td>W 19</td>\n",
       "      <td>weekeday</td>\n",
       "    </tr>\n",
       "    <tr>\n",
       "      <th>2</th>\n",
       "      <td>03-May-22</td>\n",
       "      <td>May 22</td>\n",
       "      <td>W 19</td>\n",
       "      <td>weekeday</td>\n",
       "    </tr>\n",
       "  </tbody>\n",
       "</table>\n",
       "</div>"
      ],
      "text/plain": [
       "        date  mmm yy week no  day_type\n",
       "0  01-May-22  May 22    W 19   weekend\n",
       "1  02-May-22  May 22    W 19  weekeday\n",
       "2  03-May-22  May 22    W 19  weekeday"
      ]
     },
     "execution_count": 73,
     "metadata": {},
     "output_type": "execute_result"
    }
   ],
   "source": [
    "df_date.head(3)"
   ]
  },
  {
   "cell_type": "code",
   "execution_count": 74,
   "id": "bec31775",
   "metadata": {},
   "outputs": [
    {
     "data": {
      "text/plain": [
       "array(['May 22', 'Jun 22', 'Jul 22'], dtype=object)"
      ]
     },
     "execution_count": 74,
     "metadata": {},
     "output_type": "execute_result"
    }
   ],
   "source": [
    "df_date[\"mmm yy\"].unique()"
   ]
  },
  {
   "cell_type": "code",
   "execution_count": 75,
   "id": "7e0fc9c8",
   "metadata": {},
   "outputs": [
    {
     "data": {
      "text/html": [
       "<div>\n",
       "<style scoped>\n",
       "    .dataframe tbody tr th:only-of-type {\n",
       "        vertical-align: middle;\n",
       "    }\n",
       "\n",
       "    .dataframe tbody tr th {\n",
       "        vertical-align: top;\n",
       "    }\n",
       "\n",
       "    .dataframe thead th {\n",
       "        text-align: right;\n",
       "    }\n",
       "</style>\n",
       "<table border=\"1\" class=\"dataframe\">\n",
       "  <thead>\n",
       "    <tr style=\"text-align: right;\">\n",
       "      <th></th>\n",
       "      <th>booking_id</th>\n",
       "      <th>property_id</th>\n",
       "      <th>booking_date</th>\n",
       "      <th>check_in_date</th>\n",
       "      <th>checkout_date</th>\n",
       "      <th>no_guests</th>\n",
       "      <th>room_category</th>\n",
       "      <th>booking_platform</th>\n",
       "      <th>ratings_given</th>\n",
       "      <th>booking_status</th>\n",
       "      <th>revenue_generated</th>\n",
       "      <th>revenue_realized</th>\n",
       "      <th>property_name</th>\n",
       "      <th>category</th>\n",
       "      <th>city</th>\n",
       "    </tr>\n",
       "  </thead>\n",
       "  <tbody>\n",
       "    <tr>\n",
       "      <th>0</th>\n",
       "      <td>May012216558RT12</td>\n",
       "      <td>16558</td>\n",
       "      <td>30-04-22</td>\n",
       "      <td>1/5/2022</td>\n",
       "      <td>2/5/2022</td>\n",
       "      <td>2.0</td>\n",
       "      <td>RT1</td>\n",
       "      <td>others</td>\n",
       "      <td>NaN</td>\n",
       "      <td>Cancelled</td>\n",
       "      <td>9100</td>\n",
       "      <td>3640</td>\n",
       "      <td>Atliq Grands</td>\n",
       "      <td>Luxury</td>\n",
       "      <td>Delhi</td>\n",
       "    </tr>\n",
       "    <tr>\n",
       "      <th>1</th>\n",
       "      <td>May012216558RT15</td>\n",
       "      <td>16558</td>\n",
       "      <td>27-04-22</td>\n",
       "      <td>1/5/2022</td>\n",
       "      <td>2/5/2022</td>\n",
       "      <td>4.0</td>\n",
       "      <td>RT1</td>\n",
       "      <td>direct online</td>\n",
       "      <td>5.0</td>\n",
       "      <td>Checked Out</td>\n",
       "      <td>10920</td>\n",
       "      <td>10920</td>\n",
       "      <td>Atliq Grands</td>\n",
       "      <td>Luxury</td>\n",
       "      <td>Delhi</td>\n",
       "    </tr>\n",
       "    <tr>\n",
       "      <th>2</th>\n",
       "      <td>May012216558RT16</td>\n",
       "      <td>16558</td>\n",
       "      <td>1/5/2022</td>\n",
       "      <td>1/5/2022</td>\n",
       "      <td>3/5/2022</td>\n",
       "      <td>2.0</td>\n",
       "      <td>RT1</td>\n",
       "      <td>others</td>\n",
       "      <td>4.0</td>\n",
       "      <td>Checked Out</td>\n",
       "      <td>9100</td>\n",
       "      <td>9100</td>\n",
       "      <td>Atliq Grands</td>\n",
       "      <td>Luxury</td>\n",
       "      <td>Delhi</td>\n",
       "    </tr>\n",
       "  </tbody>\n",
       "</table>\n",
       "</div>"
      ],
      "text/plain": [
       "         booking_id  property_id booking_date check_in_date checkout_date  \\\n",
       "0  May012216558RT12        16558     30-04-22      1/5/2022      2/5/2022   \n",
       "1  May012216558RT15        16558     27-04-22      1/5/2022      2/5/2022   \n",
       "2  May012216558RT16        16558     1/5/2022      1/5/2022      3/5/2022   \n",
       "\n",
       "   no_guests room_category booking_platform  ratings_given booking_status  \\\n",
       "0        2.0           RT1           others            NaN      Cancelled   \n",
       "1        4.0           RT1    direct online            5.0    Checked Out   \n",
       "2        2.0           RT1           others            4.0    Checked Out   \n",
       "\n",
       "   revenue_generated  revenue_realized property_name category   city  \n",
       "0               9100              3640  Atliq Grands   Luxury  Delhi  \n",
       "1              10920             10920  Atliq Grands   Luxury  Delhi  \n",
       "2               9100              9100  Atliq Grands   Luxury  Delhi  "
      ]
     },
     "execution_count": 75,
     "metadata": {},
     "output_type": "execute_result"
    }
   ],
   "source": [
    "df_bookings_all.head(3)"
   ]
  },
  {
   "cell_type": "code",
   "execution_count": 76,
   "id": "a4a1a412",
   "metadata": {},
   "outputs": [
    {
     "name": "stdout",
     "output_type": "stream",
     "text": [
      "<class 'pandas.core.frame.DataFrame'>\n",
      "RangeIndex: 92 entries, 0 to 91\n",
      "Data columns (total 4 columns):\n",
      " #   Column    Non-Null Count  Dtype \n",
      "---  ------    --------------  ----- \n",
      " 0   date      92 non-null     object\n",
      " 1   mmm yy    92 non-null     object\n",
      " 2   week no   92 non-null     object\n",
      " 3   day_type  92 non-null     object\n",
      "dtypes: object(4)\n",
      "memory usage: 3.0+ KB\n"
     ]
    }
   ],
   "source": [
    "df_date.info()"
   ]
  },
  {
   "cell_type": "code",
   "execution_count": 77,
   "id": "7db00dac",
   "metadata": {},
   "outputs": [
    {
     "name": "stderr",
     "output_type": "stream",
     "text": [
      "C:\\Users\\ranji\\AppData\\Local\\Temp\\ipykernel_24668\\173964601.py:1: UserWarning: Could not infer format, so each element will be parsed individually, falling back to `dateutil`. To ensure parsing is consistent and as-expected, please specify a format.\n",
      "  df_date[\"date\"] = pd.to_datetime(df_date[\"date\"])\n"
     ]
    },
    {
     "data": {
      "text/html": [
       "<div>\n",
       "<style scoped>\n",
       "    .dataframe tbody tr th:only-of-type {\n",
       "        vertical-align: middle;\n",
       "    }\n",
       "\n",
       "    .dataframe tbody tr th {\n",
       "        vertical-align: top;\n",
       "    }\n",
       "\n",
       "    .dataframe thead th {\n",
       "        text-align: right;\n",
       "    }\n",
       "</style>\n",
       "<table border=\"1\" class=\"dataframe\">\n",
       "  <thead>\n",
       "    <tr style=\"text-align: right;\">\n",
       "      <th></th>\n",
       "      <th>date</th>\n",
       "      <th>mmm yy</th>\n",
       "      <th>week no</th>\n",
       "      <th>day_type</th>\n",
       "    </tr>\n",
       "  </thead>\n",
       "  <tbody>\n",
       "    <tr>\n",
       "      <th>0</th>\n",
       "      <td>2022-05-01</td>\n",
       "      <td>May 22</td>\n",
       "      <td>W 19</td>\n",
       "      <td>weekend</td>\n",
       "    </tr>\n",
       "    <tr>\n",
       "      <th>1</th>\n",
       "      <td>2022-05-02</td>\n",
       "      <td>May 22</td>\n",
       "      <td>W 19</td>\n",
       "      <td>weekeday</td>\n",
       "    </tr>\n",
       "    <tr>\n",
       "      <th>2</th>\n",
       "      <td>2022-05-03</td>\n",
       "      <td>May 22</td>\n",
       "      <td>W 19</td>\n",
       "      <td>weekeday</td>\n",
       "    </tr>\n",
       "  </tbody>\n",
       "</table>\n",
       "</div>"
      ],
      "text/plain": [
       "        date  mmm yy week no  day_type\n",
       "0 2022-05-01  May 22    W 19   weekend\n",
       "1 2022-05-02  May 22    W 19  weekeday\n",
       "2 2022-05-03  May 22    W 19  weekeday"
      ]
     },
     "execution_count": 77,
     "metadata": {},
     "output_type": "execute_result"
    }
   ],
   "source": [
    "df_date[\"date\"] = pd.to_datetime(df_date[\"date\"])\n",
    "df_date.head(3)"
   ]
  },
  {
   "cell_type": "code",
   "execution_count": 78,
   "id": "aa089bcb",
   "metadata": {},
   "outputs": [
    {
     "name": "stdout",
     "output_type": "stream",
     "text": [
      "<class 'pandas.core.frame.DataFrame'>\n",
      "RangeIndex: 134573 entries, 0 to 134572\n",
      "Data columns (total 15 columns):\n",
      " #   Column             Non-Null Count   Dtype  \n",
      "---  ------             --------------   -----  \n",
      " 0   booking_id         134573 non-null  object \n",
      " 1   property_id        134573 non-null  int64  \n",
      " 2   booking_date       134573 non-null  object \n",
      " 3   check_in_date      134573 non-null  object \n",
      " 4   checkout_date      134573 non-null  object \n",
      " 5   no_guests          134573 non-null  float64\n",
      " 6   room_category      134573 non-null  object \n",
      " 7   booking_platform   134573 non-null  object \n",
      " 8   ratings_given      56676 non-null   float64\n",
      " 9   booking_status     134573 non-null  object \n",
      " 10  revenue_generated  134573 non-null  int64  \n",
      " 11  revenue_realized   134573 non-null  int64  \n",
      " 12  property_name      134573 non-null  object \n",
      " 13  category           134573 non-null  object \n",
      " 14  city               134573 non-null  object \n",
      "dtypes: float64(2), int64(3), object(10)\n",
      "memory usage: 15.4+ MB\n"
     ]
    }
   ],
   "source": [
    "df_bookings_all.info()"
   ]
  },
  {
   "cell_type": "code",
   "execution_count": 79,
   "id": "f14e6647",
   "metadata": {
    "scrolled": true
   },
   "outputs": [
    {
     "data": {
      "text/html": [
       "<div>\n",
       "<style scoped>\n",
       "    .dataframe tbody tr th:only-of-type {\n",
       "        vertical-align: middle;\n",
       "    }\n",
       "\n",
       "    .dataframe tbody tr th {\n",
       "        vertical-align: top;\n",
       "    }\n",
       "\n",
       "    .dataframe thead th {\n",
       "        text-align: right;\n",
       "    }\n",
       "</style>\n",
       "<table border=\"1\" class=\"dataframe\">\n",
       "  <thead>\n",
       "    <tr style=\"text-align: right;\">\n",
       "      <th></th>\n",
       "      <th>booking_id</th>\n",
       "      <th>property_id</th>\n",
       "      <th>booking_date</th>\n",
       "      <th>check_in_date</th>\n",
       "      <th>checkout_date</th>\n",
       "      <th>no_guests</th>\n",
       "      <th>room_category</th>\n",
       "      <th>booking_platform</th>\n",
       "      <th>ratings_given</th>\n",
       "      <th>booking_status</th>\n",
       "      <th>revenue_generated</th>\n",
       "      <th>revenue_realized</th>\n",
       "      <th>property_name</th>\n",
       "      <th>category</th>\n",
       "      <th>city</th>\n",
       "    </tr>\n",
       "  </thead>\n",
       "  <tbody>\n",
       "    <tr>\n",
       "      <th>0</th>\n",
       "      <td>May012216558RT12</td>\n",
       "      <td>16558</td>\n",
       "      <td>30-04-22</td>\n",
       "      <td>2022-05-01</td>\n",
       "      <td>2/5/2022</td>\n",
       "      <td>2.0</td>\n",
       "      <td>RT1</td>\n",
       "      <td>others</td>\n",
       "      <td>NaN</td>\n",
       "      <td>Cancelled</td>\n",
       "      <td>9100</td>\n",
       "      <td>3640</td>\n",
       "      <td>Atliq Grands</td>\n",
       "      <td>Luxury</td>\n",
       "      <td>Delhi</td>\n",
       "    </tr>\n",
       "    <tr>\n",
       "      <th>1</th>\n",
       "      <td>May012216558RT15</td>\n",
       "      <td>16558</td>\n",
       "      <td>27-04-22</td>\n",
       "      <td>2022-05-01</td>\n",
       "      <td>2/5/2022</td>\n",
       "      <td>4.0</td>\n",
       "      <td>RT1</td>\n",
       "      <td>direct online</td>\n",
       "      <td>5.0</td>\n",
       "      <td>Checked Out</td>\n",
       "      <td>10920</td>\n",
       "      <td>10920</td>\n",
       "      <td>Atliq Grands</td>\n",
       "      <td>Luxury</td>\n",
       "      <td>Delhi</td>\n",
       "    </tr>\n",
       "    <tr>\n",
       "      <th>2</th>\n",
       "      <td>May012216558RT16</td>\n",
       "      <td>16558</td>\n",
       "      <td>1/5/2022</td>\n",
       "      <td>2022-05-01</td>\n",
       "      <td>3/5/2022</td>\n",
       "      <td>2.0</td>\n",
       "      <td>RT1</td>\n",
       "      <td>others</td>\n",
       "      <td>4.0</td>\n",
       "      <td>Checked Out</td>\n",
       "      <td>9100</td>\n",
       "      <td>9100</td>\n",
       "      <td>Atliq Grands</td>\n",
       "      <td>Luxury</td>\n",
       "      <td>Delhi</td>\n",
       "    </tr>\n",
       "    <tr>\n",
       "      <th>3</th>\n",
       "      <td>May012216558RT17</td>\n",
       "      <td>16558</td>\n",
       "      <td>28-04-22</td>\n",
       "      <td>2022-05-01</td>\n",
       "      <td>6/5/2022</td>\n",
       "      <td>2.0</td>\n",
       "      <td>RT1</td>\n",
       "      <td>others</td>\n",
       "      <td>NaN</td>\n",
       "      <td>Cancelled</td>\n",
       "      <td>9100</td>\n",
       "      <td>3640</td>\n",
       "      <td>Atliq Grands</td>\n",
       "      <td>Luxury</td>\n",
       "      <td>Delhi</td>\n",
       "    </tr>\n",
       "  </tbody>\n",
       "</table>\n",
       "</div>"
      ],
      "text/plain": [
       "         booking_id  property_id booking_date check_in_date checkout_date  \\\n",
       "0  May012216558RT12        16558     30-04-22    2022-05-01      2/5/2022   \n",
       "1  May012216558RT15        16558     27-04-22    2022-05-01      2/5/2022   \n",
       "2  May012216558RT16        16558     1/5/2022    2022-05-01      3/5/2022   \n",
       "3  May012216558RT17        16558     28-04-22    2022-05-01      6/5/2022   \n",
       "\n",
       "   no_guests room_category booking_platform  ratings_given booking_status  \\\n",
       "0        2.0           RT1           others            NaN      Cancelled   \n",
       "1        4.0           RT1    direct online            5.0    Checked Out   \n",
       "2        2.0           RT1           others            4.0    Checked Out   \n",
       "3        2.0           RT1           others            NaN      Cancelled   \n",
       "\n",
       "   revenue_generated  revenue_realized property_name category   city  \n",
       "0               9100              3640  Atliq Grands   Luxury  Delhi  \n",
       "1              10920             10920  Atliq Grands   Luxury  Delhi  \n",
       "2               9100              9100  Atliq Grands   Luxury  Delhi  \n",
       "3               9100              3640  Atliq Grands   Luxury  Delhi  "
      ]
     },
     "execution_count": 79,
     "metadata": {},
     "output_type": "execute_result"
    }
   ],
   "source": [
    "df_bookings_all[\"check_in_date\"] = pd.to_datetime(df_bookings_all[\"check_in_date\"], errors='coerce', dayfirst=True)\n",
    "df_bookings_all.head(4)\n"
   ]
  },
  {
   "cell_type": "code",
   "execution_count": 80,
   "id": "0c5deddd",
   "metadata": {},
   "outputs": [
    {
     "data": {
      "text/html": [
       "<div>\n",
       "<style scoped>\n",
       "    .dataframe tbody tr th:only-of-type {\n",
       "        vertical-align: middle;\n",
       "    }\n",
       "\n",
       "    .dataframe tbody tr th {\n",
       "        vertical-align: top;\n",
       "    }\n",
       "\n",
       "    .dataframe thead th {\n",
       "        text-align: right;\n",
       "    }\n",
       "</style>\n",
       "<table border=\"1\" class=\"dataframe\">\n",
       "  <thead>\n",
       "    <tr style=\"text-align: right;\">\n",
       "      <th></th>\n",
       "      <th>booking_id</th>\n",
       "      <th>property_id</th>\n",
       "      <th>booking_date</th>\n",
       "      <th>check_in_date</th>\n",
       "      <th>checkout_date</th>\n",
       "      <th>no_guests</th>\n",
       "      <th>room_category</th>\n",
       "      <th>booking_platform</th>\n",
       "      <th>ratings_given</th>\n",
       "      <th>booking_status</th>\n",
       "      <th>revenue_generated</th>\n",
       "      <th>revenue_realized</th>\n",
       "      <th>property_name</th>\n",
       "      <th>category</th>\n",
       "      <th>city</th>\n",
       "      <th>date</th>\n",
       "      <th>mmm yy</th>\n",
       "      <th>week no</th>\n",
       "      <th>day_type</th>\n",
       "    </tr>\n",
       "  </thead>\n",
       "  <tbody>\n",
       "    <tr>\n",
       "      <th>0</th>\n",
       "      <td>May012216558RT12</td>\n",
       "      <td>16558</td>\n",
       "      <td>30-04-22</td>\n",
       "      <td>2022-05-01</td>\n",
       "      <td>2/5/2022</td>\n",
       "      <td>2.0</td>\n",
       "      <td>RT1</td>\n",
       "      <td>others</td>\n",
       "      <td>NaN</td>\n",
       "      <td>Cancelled</td>\n",
       "      <td>9100</td>\n",
       "      <td>3640</td>\n",
       "      <td>Atliq Grands</td>\n",
       "      <td>Luxury</td>\n",
       "      <td>Delhi</td>\n",
       "      <td>2022-05-01</td>\n",
       "      <td>May 22</td>\n",
       "      <td>W 19</td>\n",
       "      <td>weekend</td>\n",
       "    </tr>\n",
       "    <tr>\n",
       "      <th>1</th>\n",
       "      <td>May012216558RT15</td>\n",
       "      <td>16558</td>\n",
       "      <td>27-04-22</td>\n",
       "      <td>2022-05-01</td>\n",
       "      <td>2/5/2022</td>\n",
       "      <td>4.0</td>\n",
       "      <td>RT1</td>\n",
       "      <td>direct online</td>\n",
       "      <td>5.0</td>\n",
       "      <td>Checked Out</td>\n",
       "      <td>10920</td>\n",
       "      <td>10920</td>\n",
       "      <td>Atliq Grands</td>\n",
       "      <td>Luxury</td>\n",
       "      <td>Delhi</td>\n",
       "      <td>2022-05-01</td>\n",
       "      <td>May 22</td>\n",
       "      <td>W 19</td>\n",
       "      <td>weekend</td>\n",
       "    </tr>\n",
       "    <tr>\n",
       "      <th>2</th>\n",
       "      <td>May012216558RT16</td>\n",
       "      <td>16558</td>\n",
       "      <td>1/5/2022</td>\n",
       "      <td>2022-05-01</td>\n",
       "      <td>3/5/2022</td>\n",
       "      <td>2.0</td>\n",
       "      <td>RT1</td>\n",
       "      <td>others</td>\n",
       "      <td>4.0</td>\n",
       "      <td>Checked Out</td>\n",
       "      <td>9100</td>\n",
       "      <td>9100</td>\n",
       "      <td>Atliq Grands</td>\n",
       "      <td>Luxury</td>\n",
       "      <td>Delhi</td>\n",
       "      <td>2022-05-01</td>\n",
       "      <td>May 22</td>\n",
       "      <td>W 19</td>\n",
       "      <td>weekend</td>\n",
       "    </tr>\n",
       "  </tbody>\n",
       "</table>\n",
       "</div>"
      ],
      "text/plain": [
       "         booking_id  property_id booking_date check_in_date checkout_date  \\\n",
       "0  May012216558RT12        16558     30-04-22    2022-05-01      2/5/2022   \n",
       "1  May012216558RT15        16558     27-04-22    2022-05-01      2/5/2022   \n",
       "2  May012216558RT16        16558     1/5/2022    2022-05-01      3/5/2022   \n",
       "\n",
       "   no_guests room_category booking_platform  ratings_given booking_status  \\\n",
       "0        2.0           RT1           others            NaN      Cancelled   \n",
       "1        4.0           RT1    direct online            5.0    Checked Out   \n",
       "2        2.0           RT1           others            4.0    Checked Out   \n",
       "\n",
       "   revenue_generated  revenue_realized property_name category   city  \\\n",
       "0               9100              3640  Atliq Grands   Luxury  Delhi   \n",
       "1              10920             10920  Atliq Grands   Luxury  Delhi   \n",
       "2               9100              9100  Atliq Grands   Luxury  Delhi   \n",
       "\n",
       "        date  mmm yy week no day_type  \n",
       "0 2022-05-01  May 22    W 19  weekend  \n",
       "1 2022-05-01  May 22    W 19  weekend  \n",
       "2 2022-05-01  May 22    W 19  weekend  "
      ]
     },
     "execution_count": 80,
     "metadata": {},
     "output_type": "execute_result"
    }
   ],
   "source": [
    "# Convert both columns to datetime if not already\n",
    "df_bookings_all['check_in_date'] = pd.to_datetime(df_bookings_all['check_in_date'])\n",
    "df_date['date'] = pd.to_datetime(df_date['date'])\n",
    "\n",
    "# Merge the DataFrames\n",
    "df_bookings_all = pd.merge(df_bookings_all, df_date, left_on=\"check_in_date\", right_on=\"date\", how=\"left\")\n",
    "\n",
    "# Display the first 3 rows\n",
    "df_bookings_all.head(3)\n"
   ]
  },
  {
   "cell_type": "code",
   "execution_count": 81,
   "id": "d0b8a2f7",
   "metadata": {},
   "outputs": [
    {
     "name": "stdout",
     "output_type": "stream",
     "text": [
      "mmm yy\n",
      "Jul 22    243180932\n",
      "Jun 22    229637640\n",
      "May 22    234353183\n",
      "Name: revenue_realized, dtype: int64\n"
     ]
    }
   ],
   "source": [
    "# Remove leading/trailing spaces from column names\n",
    "df_bookings_all.columns = df_bookings_all.columns.str.strip()\n",
    "\n",
    "# Perform the groupby operation on the 'mmm yy' column and sum 'revenue_realized'\n",
    "result = df_bookings_all.groupby(\"mmm yy\")[\"revenue_realized\"].sum()\n",
    "\n",
    "# Display the result\n",
    "print(result)\n"
   ]
  },
  {
   "cell_type": "code",
   "execution_count": 82,
   "id": "4d4398ce",
   "metadata": {
    "scrolled": true
   },
   "outputs": [
    {
     "name": "stdout",
     "output_type": "stream",
     "text": [
      "city\n",
      "Bangalore    3.407681\n",
      "Delhi        3.779298\n",
      "Hyderabad    3.661041\n",
      "Mumbai       3.650545\n",
      "Name: ratings_given, dtype: float64\n"
     ]
    }
   ],
   "source": [
    "# Group by 'city' and calculate the average of 'ratings_given'\n",
    "average_rating_per_city = df_bookings_all.groupby(\"city\")[\"ratings_given\"].mean()\n",
    "\n",
    "# Display the result\n",
    "print(average_rating_per_city)\n"
   ]
  },
  {
   "cell_type": "code",
   "execution_count": 83,
   "id": "91ba08d1",
   "metadata": {},
   "outputs": [
    {
     "data": {
      "image/png": "[encoded data removed]",
      "text/plain": [
       "<Figure size 400x400 with 1 Axes>"
      ]
     },
     "metadata": {},
     "output_type": "display_data"
    }
   ],
   "source": [
    "import matplotlib.pyplot as plt\n",
    "\n",
    "# Group by 'booking_platform' and sum the 'revenue_realized'\n",
    "revenue_per_platform = df_bookings_all.groupby('booking_platform')['revenue_realized'].sum()\n",
    "\n",
    "# Plot a pie chart\n",
    "plt.figure(figsize=(4,4))\n",
    "plt.pie(revenue_per_platform, labels=revenue_per_platform.index, autopct='%1.1f%%', startangle=140)\n",
    "plt.title('Revenue Realized per Booking Platform')\n",
    "plt.axis('equal')  # Equal aspect ratio ensures that pie is drawn as a circle.\n",
    "plt.show()\n"
   ]
  }
 ],
 "metadata": {
  "kernelspec": {
   "display_name": "Python 3 (ipykernel)",
   "language": "python",
   "name": "python3"
  },
  "language_info": {
   "codemirror_mode": {
    "name": "ipython",
    "version": 3
   },
   "file_extension": ".py",
   "mimetype": "text/x-python",
   "name": "python",
   "nbconvert_exporter": "python",
   "pygments_lexer": "ipython3",
   "version": "3.10.11"
  }
 },
 "nbformat": 4,
 "nbformat_minor": 5
}
